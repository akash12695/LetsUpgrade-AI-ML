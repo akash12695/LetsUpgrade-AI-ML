{
 "cells": [
  {
   "cell_type": "markdown",
   "metadata": {},
   "source": [
    "# Hypothesis 1 Statement:- \n",
    "The average age of employee in a company is 35 with standard deviation 10.A reasearcher believes that if age is less than 35 there is higher attrition rate. Taking a sample of 50 employee with average age being 37 and level of significance is 0.05.\n"
   ]
  },
  {
   "cell_type": "markdown",
   "metadata": {},
   "source": [
    "# Hypothesis 2 Statement:- \n",
    "The average distance of employees from worklocation to home is 9 with standard deviation 15.A reasearcher believe that if distance from home is greater than 9 higher attrition is observed.Taking a sample of 50 employees with average distance being 10 and level of significance is 0.01.\n",
    "\n"
   ]
  },
  {
   "cell_type": "markdown",
   "metadata": {},
   "source": [
    "# Hypothesis 3 Statement:- \n",
    "The average years at company of employees is 7.A reasearcher believe that if an employee has an experience of more than 7 years there is higher attrition.Taking a sample of 75 employees with average experience of 9 years and standard deviation is 5."
   ]
  },
  {
   "cell_type": "markdown",
   "metadata": {},
   "source": [
    "# Hypothesis 4 Statement:-\n",
    "The average percentsalaryhike of employee is 15 with standard deviation of 12.A researcher believe that if percentsalaryhike is less than 15 there is higher attrition.Taking a sample of 100employees and percentsalaryhike is 14.\n",
    "\n"
   ]
  },
  {
   "cell_type": "markdown",
   "metadata": {},
   "source": [
    "# Hypothesis 5 Statement:-\n",
    "The average monthly income of employees is 65000.A researcher believes that if monthly income is less than 65000 higher attrition occured.Taking a sample of 75 employees with average monthly income is 60000 and standard deviation is 30000.\n",
    "\n"
   ]
  },
  {
   "cell_type": "markdown",
   "metadata": {},
   "source": [
    "# Hypotheis 6 Statement:-\n",
    "The average level of employees is 2 with standard deviation 2.A reasearcher believes that if level is less than 2 higher attrition has been observed.Taking a sample of 50employees with average level 3.\n",
    "\n"
   ]
  },
  {
   "cell_type": "markdown",
   "metadata": {},
   "source": [
    "# Hypothesis 7 Statement:-\n",
    "The average no of companies worked by an employee is 2.The reasearcher believes that if no of companies worked by an employee is more than 2 higher attrition occured.Taking a sample of 100 employees with average companies worked is 3 and standard deviation is 2.\n",
    "\n"
   ]
  },
  {
   "cell_type": "markdown",
   "metadata": {},
   "source": [
    "# Hypothesis 8 Statement:-\n",
    "The average total working years of employees is 11 with standard deviation 4.The researcher believes that if total working years of employee is more than 11 years higher attrition has been observed.Taking a sample of 200 employees with average total working years of employee is 10.\n",
    "\n"
   ]
  },
  {
   "cell_type": "markdown",
   "metadata": {},
   "source": [
    "# Hypothesis 9 Statement:- \n",
    "The average yearsSinceLastPromotion of employees is 2 with standard deviation 2.The researcher believes that if yearsSinceLastPromotion of employee is more than 2 years higher attrition has occured.Taking a sample of 100 employees with average yearsSinceLastPromotion is 3.\n",
    "\n"
   ]
  },
  {
   "cell_type": "markdown",
   "metadata": {},
   "source": [
    "# Hypothesis 10 Statement:-\n",
    "The average TrainingTimesLastYear of employees is 2.The researcher believes that if trainingTimesLastYear of employee is more than 2 higher attrition rate has been observed.Taking a sample of 100 employees with average TrainingTimesLastYear of employees is 3 with standard deviation of"
   ]
  },
  {
   "cell_type": "code",
   "execution_count": null,
   "metadata": {},
   "outputs": [],
   "source": []
  }
 ],
 "metadata": {
  "kernelspec": {
   "display_name": "Python 3",
   "language": "python",
   "name": "python3"
  },
  "language_info": {
   "codemirror_mode": {
    "name": "ipython",
    "version": 3
   },
   "file_extension": ".py",
   "mimetype": "text/x-python",
   "name": "python",
   "nbconvert_exporter": "python",
   "pygments_lexer": "ipython3",
   "version": "3.7.6"
  }
 },
 "nbformat": 4,
 "nbformat_minor": 4
}
