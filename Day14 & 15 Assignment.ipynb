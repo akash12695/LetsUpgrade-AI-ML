{
 "cells": [
  {
   "cell_type": "markdown",
   "metadata": {},
   "source": [
    "# Q1. Create a 3x3x3 array with random values"
   ]
  },
  {
   "cell_type": "code",
   "execution_count": 1,
   "metadata": {},
   "outputs": [
    {
     "data": {
      "text/plain": [
       "array([[[6.23042070e-307, 4.67296746e-307, 1.69121096e-306],\n",
       "        [7.56597770e-307, 1.89146896e-307, 1.37961302e-306],\n",
       "        [6.23053614e-307, 6.23053954e-307, 9.34609790e-307]],\n",
       "\n",
       "       [[8.45593934e-307, 9.34600963e-307, 1.86921143e-306],\n",
       "        [6.23061763e-307, 9.34608432e-307, 1.86921007e-306],\n",
       "        [7.56596412e-307, 2.22520559e-306, 7.56599128e-307]],\n",
       "\n",
       "       [[8.45559303e-307, 8.06612616e-308, 6.89810244e-307],\n",
       "        [1.22387550e-307, 2.22522596e-306, 8.34423917e-308],\n",
       "        [9.79107193e-307, 3.33509775e-317, 0.00000000e+000]]])"
      ]
     },
     "execution_count": 1,
     "metadata": {},
     "output_type": "execute_result"
    }
   ],
   "source": [
    "import numpy as np\n",
    "x=np.empty((3,3,3))\n",
    "x"
   ]
  },
  {
   "cell_type": "markdown",
   "metadata": {},
   "source": [
    "# Q2. Create a 5x5 matrix with values 1,2,3,4 just below the diagonal"
   ]
  },
  {
   "cell_type": "code",
   "execution_count": 2,
   "metadata": {},
   "outputs": [
    {
     "data": {
      "text/plain": [
       "array([[0, 0, 0, 0, 0],\n",
       "       [1, 0, 0, 0, 0],\n",
       "       [0, 2, 0, 0, 0],\n",
       "       [0, 0, 3, 0, 0],\n",
       "       [0, 0, 0, 4, 0]])"
      ]
     },
     "execution_count": 2,
     "metadata": {},
     "output_type": "execute_result"
    }
   ],
   "source": [
    "import numpy as np\n",
    "z=np.zeros((5,5))\n",
    "v=[1,2,3,4]\n",
    "z=np.diag(v,-1)\n",
    "z"
   ]
  },
  {
   "cell_type": "markdown",
   "metadata": {},
   "source": [
    "# Q3. Create a 8x8 matrix and fill it with a checkerboard pattern"
   ]
  },
  {
   "cell_type": "code",
   "execution_count": 3,
   "metadata": {},
   "outputs": [
    {
     "data": {
      "text/plain": [
       "array([[0, 1, 0, 1, 0, 1, 0, 1],\n",
       "       [1, 0, 1, 0, 1, 0, 1, 0],\n",
       "       [0, 1, 0, 1, 0, 1, 0, 1],\n",
       "       [1, 0, 1, 0, 1, 0, 1, 0],\n",
       "       [0, 1, 0, 1, 0, 1, 0, 1],\n",
       "       [1, 0, 1, 0, 1, 0, 1, 0],\n",
       "       [0, 1, 0, 1, 0, 1, 0, 1],\n",
       "       [1, 0, 1, 0, 1, 0, 1, 0]])"
      ]
     },
     "execution_count": 3,
     "metadata": {},
     "output_type": "execute_result"
    }
   ],
   "source": [
    "z=np.zeros((8,8),dtype=int)\n",
    "z[::2,1::2]=1\n",
    "z[1::2,::2]=1\n",
    "z"
   ]
  },
  {
   "cell_type": "markdown",
   "metadata": {},
   "source": [
    "# Q4. Normalize a 5x5 random matrix"
   ]
  },
  {
   "cell_type": "code",
   "execution_count": 4,
   "metadata": {},
   "outputs": [
    {
     "name": "stdout",
     "output_type": "stream",
     "text": [
      "[[4128860 6029375 3801155 5570652 6619251]\n",
      " [7536754 4259932 6357099 6815859 4259932]\n",
      " [6357102 7274595 6553710 6029409 6881388]\n",
      " [6029410 6881395 6619252 7340077 6488161]\n",
      " [6357099 6619239 6029427 4784208      76]]\n"
     ]
    },
    {
     "data": {
      "text/plain": [
       "array([[0.54782545, 0.79999424, 0.50434409, 0.73912883, 0.87826162],\n",
       "       [1.        , 0.56521666, 0.84347812, 0.90434844, 0.56521666],\n",
       "       [0.84347852, 0.96521558, 0.86956534, 0.79999875, 0.91304312],\n",
       "       [0.79999889, 0.91304405, 0.87826175, 0.97390402, 0.86086801],\n",
       "       [0.84347812, 0.87826002, 0.80000114, 0.63477994, 0.        ]])"
      ]
     },
     "execution_count": 4,
     "metadata": {},
     "output_type": "execute_result"
    }
   ],
   "source": [
    "from math import *\n",
    "from pylab import *\n",
    "Z=np.empty((5,5),dtype=int)\n",
    "print(Z)\n",
    "Zmax,Zmin=Z.max(),Z.min()\n",
    "Z=(Z-Zmin)/(Zmax-Zmin)\n",
    "Z"
   ]
  },
  {
   "cell_type": "markdown",
   "metadata": {},
   "source": [
    "# Q5. How to find common values between two arrays?"
   ]
  },
  {
   "cell_type": "code",
   "execution_count": 5,
   "metadata": {},
   "outputs": [
    {
     "name": "stdout",
     "output_type": "stream",
     "text": [
      "Array1: [1, 2, 3, 4, 5, 6]\n",
      "Array2: [1, 2, 3, 9, 0, 8]\n",
      "Common Values between two arrays: [1 2 3]\n"
     ]
    }
   ],
   "source": [
    "import numpy as np\n",
    "array1=[1,2,3,4,5,6]\n",
    "print(\"Array1:\", array1)\n",
    "array2=[1,2,3,9,0,8]\n",
    "print(\"Array2:\", array2)\n",
    "print(\"Common Values between two arrays:\", np.intersect1d(array1,array2))"
   ]
  },
  {
   "cell_type": "markdown",
   "metadata": {},
   "source": [
    "# Q6. How to get the dates of yesterday, today and tomorrow?"
   ]
  },
  {
   "cell_type": "code",
   "execution_count": 6,
   "metadata": {},
   "outputs": [
    {
     "name": "stdout",
     "output_type": "stream",
     "text": [
      "Yestraday:  2020-07-26\n",
      "Today:  2020-07-27\n",
      "Tomorrow:  2020-07-28\n"
     ]
    }
   ],
   "source": [
    "import numpy as np\n",
    "yesterday = np.datetime64('today', 'D') - np.timedelta64(1, 'D')\n",
    "print(\"Yestraday: \",yesterday)\n",
    "today     = np.datetime64('today', 'D')\n",
    "print(\"Today: \",today)\n",
    "tomorrow  = np.datetime64('today', 'D') + np.timedelta64(1, 'D')\n",
    "print(\"Tomorrow: \",tomorrow)\n"
   ]
  },
  {
   "cell_type": "markdown",
   "metadata": {},
   "source": [
    "# Q7. Consider two random array A and B, check if they are equal"
   ]
  },
  {
   "cell_type": "code",
   "execution_count": 7,
   "metadata": {},
   "outputs": [
    {
     "name": "stdout",
     "output_type": "stream",
     "text": [
      "[0 0 1 0 0]\n",
      "[1 1 0 1 1]\n",
      "False\n"
     ]
    }
   ],
   "source": [
    "A = np.random.randint(0,2,5)\n",
    "B = np.random.randint(0,2,5)\n",
    "print(A)\n",
    "print(B)\n",
    "\n",
    "equal = np.allclose(A,B)\n",
    "print(equal)"
   ]
  },
  {
   "cell_type": "markdown",
   "metadata": {},
   "source": [
    "# Q8. Create random vector of size 10 and replace the maximum value by 0"
   ]
  },
  {
   "cell_type": "code",
   "execution_count": 8,
   "metadata": {},
   "outputs": [
    {
     "name": "stdout",
     "output_type": "stream",
     "text": [
      "[0.81716846 0.76422594 0.73184083 0.48742509 0.78537745 0.79254191\n",
      " 0.73966817 0.7586849  0.35648752 0.60760095]\n",
      "[0.         0.76422594 0.73184083 0.48742509 0.78537745 0.79254191\n",
      " 0.73966817 0.7586849  0.35648752 0.60760095]\n"
     ]
    }
   ],
   "source": [
    "z=np.random.random(10)\n",
    "print(z)\n",
    "z[z.argmax()]=0\n",
    "print(z)"
   ]
  },
  {
   "cell_type": "markdown",
   "metadata": {},
   "source": [
    "# Q9. How to print all the values of an array?"
   ]
  },
  {
   "cell_type": "code",
   "execution_count": 9,
   "metadata": {},
   "outputs": [
    {
     "name": "stdout",
     "output_type": "stream",
     "text": [
      "[[0. 0. 0. 0.]\n",
      " [0. 0. 0. 0.]\n",
      " [0. 0. 0. 0.]\n",
      " [0. 0. 0. 0.]]\n"
     ]
    }
   ],
   "source": [
    "Z = np.zeros((4,4))\n",
    "print(Z)"
   ]
  },
  {
   "cell_type": "markdown",
   "metadata": {},
   "source": [
    "# Q10. Subtract the mean of each row of a matrix"
   ]
  },
  {
   "cell_type": "code",
   "execution_count": 10,
   "metadata": {
    "scrolled": true
   },
   "outputs": [
    {
     "name": "stdout",
     "output_type": "stream",
     "text": [
      "Original matrix:\n",
      "\n",
      "[[0.27559448 0.097828   0.33760204 0.84444472]\n",
      " [0.5165882  0.92138139 0.65442391 0.53566413]]\n",
      "\n",
      "Subtract the mean of each row of the original matrix:\n",
      "\n",
      "[[-0.11327283 -0.29103931 -0.05126527  0.45557741]\n",
      " [-0.14042621  0.26436699 -0.00259049 -0.12135028]]\n"
     ]
    }
   ],
   "source": [
    "print(\"Original matrix:\\n\")\n",
    "X = np.random.rand(2, 4)\n",
    "print(X)\n",
    "print(\"\\nSubtract the mean of each row of the original matrix:\\n\")\n",
    "Y = X - X.mean(axis=1, keepdims=True)\n",
    "print(Y)"
   ]
  },
  {
   "cell_type": "markdown",
   "metadata": {},
   "source": [
    "# Q11. Consider a given vector, how to add 1 to each element indexed by a second vector (be careful with repeated indices)?"
   ]
  },
  {
   "cell_type": "code",
   "execution_count": 11,
   "metadata": {},
   "outputs": [
    {
     "name": "stdout",
     "output_type": "stream",
     "text": [
      "[5. 3. 3. 2. 2. 3. 3. 2. 2. 5.]\n"
     ]
    }
   ],
   "source": [
    "Z = np.ones(10)\n",
    "I = np.random.randint(0,len(Z),20)\n",
    "Z += np.bincount(I, minlength=len(Z))\n",
    "print(Z)"
   ]
  },
  {
   "cell_type": "markdown",
   "metadata": {},
   "source": [
    "# Q12. How to get the diagonal of a dot product?"
   ]
  },
  {
   "cell_type": "code",
   "execution_count": 12,
   "metadata": {},
   "outputs": [
    {
     "name": "stdout",
     "output_type": "stream",
     "text": [
      "[[7 4 1]\n",
      " [6 0 3]\n",
      " [6 1 4]]\n",
      "[[7 1 3]\n",
      " [3 6 8]\n",
      " [7 5 4]]\n",
      "[[68 36 57]\n",
      " [63 21 30]\n",
      " [73 32 42]]\n",
      "[68 21 42]\n"
     ]
    }
   ],
   "source": [
    "A = np.random.randint(0,10,(3,3))\n",
    "print(A)\n",
    "B= np.random.randint(0,10,(3,3))\n",
    "print(B)\n",
    "#Slow version\n",
    "C=np.dot(A, B)\n",
    "print(C)\n",
    "D=np.diag(C)\n",
    "print(D)"
   ]
  },
  {
   "cell_type": "markdown",
   "metadata": {},
   "source": [
    "# Q13. How to find the most frequent value in an array"
   ]
  },
  {
   "cell_type": "code",
   "execution_count": 13,
   "metadata": {},
   "outputs": [
    {
     "name": "stdout",
     "output_type": "stream",
     "text": [
      "Original array: [3 8 6 2 2 1 6 7 7 6 4 1 8 3 6 9 9 1 7 2 5 7 2 9 7 0 5 9 1 7 0 5 1 9 6 6 9\n",
      " 6 7 5]\n",
      "Most frequent value in the above array:\n",
      "6\n"
     ]
    }
   ],
   "source": [
    "x = np.random.randint(0, 10, 40)\n",
    "print(\"Original array:\",x)\n",
    "print(\"Most frequent value in the above array:\")\n",
    "print(np.bincount(x).argmax())"
   ]
  },
  {
   "cell_type": "markdown",
   "metadata": {},
   "source": [
    "# Q14.How to get the n largest values of an array"
   ]
  },
  {
   "cell_type": "code",
   "execution_count": 14,
   "metadata": {},
   "outputs": [
    {
     "name": "stdout",
     "output_type": "stream",
     "text": [
      "Original array: [ 0  1  2  3  4  5  6  7  8  9 10 11 12 13 14 15 16]\n"
     ]
    },
    {
     "data": {
      "text/plain": [
       "16"
      ]
     },
     "execution_count": 14,
     "metadata": {},
     "output_type": "execute_result"
    }
   ],
   "source": [
    "import numpy as np\n",
    "x = np.arange(17)\n",
    "print(\"Original array:\",x)\n",
    "z=x.max()\n",
    "z"
   ]
  },
  {
   "cell_type": "markdown",
   "metadata": {},
   "source": [
    "# Q15.How to create a record array from a regular array?"
   ]
  },
  {
   "cell_type": "code",
   "execution_count": 15,
   "metadata": {},
   "outputs": [
    {
     "name": "stdout",
     "output_type": "stream",
     "text": [
      "(5, 'Black', 12.2)\n",
      "(9, 'Yellow', 23.)\n",
      "(0, 'White', 20.)\n"
     ]
    }
   ],
   "source": [
    "import numpy as np\n",
    "a1=np.array([5,9,0,6])\n",
    "a2=np.array(['Black','Yellow','White','Gray'])\n",
    "a3=np.array([12.20,23,20,40])\n",
    "result= np.core.records.fromarrays([a1, a2, a3],names='a,b,c')\n",
    "print(result[0])\n",
    "print(result[1])\n",
    "print(result[2])"
   ]
  },
  {
   "cell_type": "code",
   "execution_count": null,
   "metadata": {},
   "outputs": [],
   "source": []
  }
 ],
 "metadata": {
  "kernelspec": {
   "display_name": "Python 3",
   "language": "python",
   "name": "python3"
  },
  "language_info": {
   "codemirror_mode": {
    "name": "ipython",
    "version": 3
   },
   "file_extension": ".py",
   "mimetype": "text/x-python",
   "name": "python",
   "nbconvert_exporter": "python",
   "pygments_lexer": "ipython3",
   "version": "3.7.6"
  }
 },
 "nbformat": 4,
 "nbformat_minor": 4
}
