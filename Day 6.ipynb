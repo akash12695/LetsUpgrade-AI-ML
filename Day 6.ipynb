{
 "cells": [
  {
   "cell_type": "markdown",
   "metadata": {},
   "source": [
    "# Q1:  Assuming that we have some email addresses in the \"username@companyname.com\" format, please write program to print the company name of a given email address. Both user names and company names are composed of letters only. \n",
    "Input Format: \n",
    "The first line of the input contains an email address. \n",
    "Output Format: \n",
    "Print the company name in single line. \n",
    "Example; \n",
    "Input: \n",
    "john@google.com \n",
    "Output: \n",
    "google "
   ]
  },
  {
   "cell_type": "code",
   "execution_count": 1,
   "metadata": {},
   "outputs": [
    {
     "name": "stdout",
     "output_type": "stream",
     "text": [
      "Enter your company email id:akash@mishra.com\n",
      "mishra\n"
     ]
    }
   ],
   "source": [
    "email=input(\"Enter your company email id:\")\n",
    "print(email.split(\"@\")[1].split(\".\")[0])"
   ]
  },
  {
   "cell_type": "markdown",
   "metadata": {},
   "source": [
    "# Q2: Write a program that accepts a comma-separated sequence of words as input and prints the words in a comma separated sequence after sorting them alphabetically. \n",
    "Input Format: \n",
    "The first line of input contains words separated by the comma. \n",
    "Output Format: \n",
    "Print the sorted words separated by the comma. \n",
    "Example: \n",
    "Input: \n",
    "without, \n",
    "Output: \n",
    "bag, "
   ]
  },
  {
   "cell_type": "code",
   "execution_count": 2,
   "metadata": {},
   "outputs": [
    {
     "name": "stdout",
     "output_type": "stream",
     "text": [
      "Enter a Comma Separted string: hi,hello,Bye,ssup,bubye,ok,thanks\n",
      "Bye,bubye,hello,hi,ok,ssup,thanks\n"
     ]
    }
   ],
   "source": [
    "test_string = input(\"Enter a Comma Separted string: \" )\n",
    "x= test_string.split(\",\") \n",
    "x. sort() \n",
    "output_String=\"\"\n",
    "for l in x: \n",
    "    if l==x[len(x)-1]:\n",
    "        output_String=output_String + l\n",
    "    else:\n",
    "        output_String=output_String + l + \",\"\n",
    "print(output_String)"
   ]
  },
  {
   "cell_type": "markdown",
   "metadata": {},
   "source": [
    "#  Q3. Create your own Jupyter Notebook for Sets. Reference link: https://www.w3schools.com/python/python_sets.asp"
   ]
  },
  {
   "cell_type": "markdown",
   "metadata": {},
   "source": [
    "\n",
    "Set A set is a collection which is unordered and unindexed.\n",
    "\n",
    "In Python sets are written with curly brackets.\n",
    "\n",
    "Sets are unordered, so you cannot be sure in which order the items will appear.\n",
    "\n",
    "We cannot access items in a set by referring to an index, since sets are unordered the items has no index. But we can loop through the set items using a for loop by using the in keyword.\n",
    "\n",
    "Once a set is created, we cannot change its items, but we can add new items.\n",
    "\n",
    "To add one item to a set use the add() method.\n",
    "\n",
    "To add more than one item to a set use the update() method.\n",
    "\n",
    "To determine how many items a set has, use the len() method.\n",
    "\n",
    "To remove an item in a set, use the remove(), or the discard() method.\n",
    "\n",
    "We can also use the pop(), method to remove an item, but this method will remove the last item. Remember that sets are unordered, so you will not know what item that gets removed.\n",
    "\n",
    "The union() method returns a new set with all items from both sets.\n",
    "\n",
    "The update() method inserts the items in set2 into set1.\n",
    "\n",
    "The clear() method empties the set."
   ]
  },
  {
   "cell_type": "code",
   "execution_count": 3,
   "metadata": {},
   "outputs": [
    {
     "name": "stdout",
     "output_type": "stream",
     "text": [
      "values in set :  {'cherry', 'apple', 'banana'}\n",
      "Length of set is :  3\n",
      "After adding orange :  {'cherry', 'apple', 'banana', 'orange'}\n",
      "After removing banana :  {'grapes', 'cherry', 'apple', 'mango', 'orange'}\n",
      "After discarding grapes :  {'cherry', 'apple', 'mango', 'orange'}\n",
      "popped element :  cherry\n",
      "union of two sets :  {'watermelon', 'mango', 'pomogranate', 'orange', 'apple'}\n",
      "Updating set with another set :  {'watermelon', 'apple', 'mango', 'pomogranate', 'orange'}\n",
      "All elements in set : \n",
      "watermelon\n",
      "apple\n",
      "mango\n",
      "pomogranate\n",
      "orange\n"
     ]
    }
   ],
   "source": [
    "thisset = {\"apple\", \"banana\", \"cherry\"}\n",
    "print(\"values in set : \",thisset)\n",
    "print(\"Length of set is : \",len(thisset))\n",
    "thisset.add(\"orange\")\n",
    "print(\"After adding orange : \",thisset)\n",
    "thisset.update([\"orange\", \"mango\", \"grapes\"])\n",
    "thisset.remove(\"banana\")\n",
    "print(\"After removing banana : \",thisset)\n",
    "thisset.discard(\"grapes\")\n",
    "print(\"After discarding grapes : \",thisset)\n",
    "x = thisset.pop()\n",
    "print(\"popped element : \",x)\n",
    "thisset2 = {\"watermelon\", \"pomogranate\", \"apple\"}\n",
    "thisset3 = thisset.union(thisset2)\n",
    "print(\"union of two sets : \",thisset3)\n",
    "thisset.update(thisset2)\n",
    "print(\"Updating set with another set : \",thisset)\n",
    "print(\"All elements in set : \")\n",
    "for x in thisset:\n",
    "  print(x)"
   ]
  },
  {
   "cell_type": "markdown",
   "metadata": {},
   "source": [
    "# Q4: Given a list of n-1 numbers ranging from 1 to n, your task is to find the missing number. There are no duplicates. \n",
    "Input Format: \n",
    "The first line contains n-1 numbers with each number separated by a space. \n",
    "Output Format: \n",
    "Print the missing number \n",
    "\n",
    "Example: \n",
    "Input:1 246378 \n",
    "Output:5\n",
    "\n",
    "Explanation: \n",
    "In the above list of numbers 5 is missing and hence 5 is the input "
   ]
  },
  {
   "cell_type": "code",
   "execution_count": 4,
   "metadata": {},
   "outputs": [
    {
     "name": "stdout",
     "output_type": "stream",
     "text": [
      "Enter (n-1) number separated bye space:1 2 4 6 3 7 8\n",
      "5\n"
     ]
    }
   ],
   "source": [
    "NumList= list(map(int ,(input (\"Enter (n-1) number separated bye space:\")).split())) \n",
    "for x in range(1, max(NumList)+1):\n",
    "    if x not in NumList: \n",
    "        print (x) "
   ]
  },
  {
   "attachments": {},
   "cell_type": "markdown",
   "metadata": {},
   "source": [
    "# Q5: With a given list write a program to print this list L after removing all duplicate values with original order reserved. \n"
   ]
  },
  {
   "cell_type": "code",
   "execution_count": 5,
   "metadata": {},
   "outputs": [
    {
     "name": "stdout",
     "output_type": "stream",
     "text": [
      "Enter the list elements separated by space:12 23 34 34 34 23 23 45 56 78 \n",
      "12 23 34 45 56 78 "
     ]
    }
   ],
   "source": [
    "duplist = list (map(int,(input(\"Enter the list elements separated by space:\")).split()))\n",
    "#print(duplist) \n",
    "x=list(set(duplist))\n",
    "x. sort ( ) \n",
    "for l in x: \n",
    "    print(l, end=\" \") "
   ]
  }
 ],
 "metadata": {
  "kernelspec": {
   "display_name": "Python 3",
   "language": "python",
   "name": "python3"
  },
  "language_info": {
   "codemirror_mode": {
    "name": "ipython",
    "version": 3
   },
   "file_extension": ".py",
   "mimetype": "text/x-python",
   "name": "python",
   "nbconvert_exporter": "python",
   "pygments_lexer": "ipython3",
   "version": "3.7.6"
  }
 },
 "nbformat": 4,
 "nbformat_minor": 4
}
