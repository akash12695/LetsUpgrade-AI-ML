{
 "cells": [
  {
   "cell_type": "markdown",
   "metadata": {},
   "source": [
    "# We will collect text data using Twitter API"
   ]
  },
  {
   "cell_type": "code",
   "execution_count": 1,
   "metadata": {},
   "outputs": [
    {
     "name": "stderr",
     "output_type": "stream",
     "text": [
      "ERROR: Invalid requirement: '#Tweepy'\n"
     ]
    }
   ],
   "source": [
    "!pip install tweepy               #Tweepy is use to communicate with twitter API"
   ]
  },
  {
   "cell_type": "code",
   "execution_count": 2,
   "metadata": {},
   "outputs": [
    {
     "name": "stderr",
     "output_type": "stream",
     "text": [
      "ERROR: Invalid requirement: '#it'\n"
     ]
    }
   ],
   "source": [
    "!pip install openpyxl            #it is use to read or write the excel files"
   ]
  },
  {
   "cell_type": "code",
   "execution_count": 3,
   "metadata": {},
   "outputs": [],
   "source": [
    "import numpy as np\n",
    "import pandas as pd\n",
    "import tweepy\n",
    "import json\n",
    "from tweepy import OAuthHandler   #It is basicaaly responsible for cummunicating with twitter"
   ]
  },
  {
   "cell_type": "code",
   "execution_count": 4,
   "metadata": {},
   "outputs": [],
   "source": [
    "consumer_key=\"pUb5r7Jbw2x6oshyBv2Og94H6\"\n",
    "consumer_secret=\"bKJ8yixQdXEQ1IIT9G0zyowfdNe5Q7lPP385P5brJJ8ffcGCGx\"\n",
    "access_token=\"1328759215855308805-gqByAEZqbN1h9ycV7W92PaWEMHgDyr\"\n",
    "access_token_secret=\"XBEOyJaATve4JKCkSGZ31RxJXTq8wSpyPFUA7IJqEzWff\""
   ]
  },
  {
   "cell_type": "code",
   "execution_count": 5,
   "metadata": {},
   "outputs": [],
   "source": [
    "auth=tweepy.OAuthHandler(consumer_key,consumer_secret)\n",
    "auth.set_access_token(access_token,access_token_secret)\n",
    "api=tweepy.API(auth)"
   ]
  },
  {
   "cell_type": "code",
   "execution_count": 6,
   "metadata": {},
   "outputs": [],
   "source": [
    "query=\"Covid cases in India\""
   ]
  },
  {
   "cell_type": "code",
   "execution_count": 7,
   "metadata": {},
   "outputs": [
    {
     "name": "stdout",
     "output_type": "stream",
     "text": [
      "Status(_api=<tweepy.api.API object at 0x00000291CA268B88>, _json={'created_at': 'Tue Nov 24 10:35:21 +0000 2020', 'id': 1331184625314631682, 'id_str': '1331184625314631682', 'full_text': 'In India \"Low footfall in theatres has meant no blockbusters, and without big releases, the crowds will not be back; add high costs and the spectre of a second lockdown, it is a deadly cocktail for theatres\" At least Tenet is releasing there soon. https://t.co/YOdqlB6t4W', 'truncated': False, 'display_text_range': [0, 271], 'entities': {'hashtags': [], 'symbols': [], 'user_mentions': [], 'urls': [{'url': 'https://t.co/YOdqlB6t4W', 'expanded_url': 'https://lnkd.in/dKvSCJN', 'display_url': 'lnkd.in/dKvSCJN', 'indices': [248, 271]}]}, 'metadata': {'iso_language_code': 'en', 'result_type': 'recent'}, 'source': '<a href=\"http://www.linkedin.com/\" rel=\"nofollow\">LinkedIn</a>', 'in_reply_to_status_id': None, 'in_reply_to_status_id_str': None, 'in_reply_to_user_id': None, 'in_reply_to_user_id_str': None, 'in_reply_to_screen_name': None, 'user': {'id': 12206852, 'id_str': '12206852', 'name': 'Cinema-will-be-back Guru', 'screen_name': 'patrickvons', 'location': 'London, England', 'description': 'Editor of @CelluloidJunkie / Cinema Expert / #CJCinemaSummit host / Klubb Super8 / patrickvons@gmail.com', 'url': 'https://t.co/DM0t57xwpW', 'entities': {'url': {'urls': [{'url': 'https://t.co/DM0t57xwpW', 'expanded_url': 'http://celluloidjunkie.com', 'display_url': 'celluloidjunkie.com', 'indices': [0, 23]}]}, 'description': {'urls': []}}, 'protected': False, 'followers_count': 2772, 'friends_count': 1956, 'listed_count': 56, 'created_at': 'Mon Jan 14 06:37:45 +0000 2008', 'favourites_count': 20583, 'utc_offset': None, 'time_zone': None, 'geo_enabled': True, 'verified': False, 'statuses_count': 14811, 'lang': None, 'contributors_enabled': False, 'is_translator': False, 'is_translation_enabled': False, 'profile_background_color': '000000', 'profile_background_image_url': 'http://abs.twimg.com/images/themes/theme7/bg.gif', 'profile_background_image_url_https': 'https://abs.twimg.com/images/themes/theme7/bg.gif', 'profile_background_tile': False, 'profile_image_url': 'http://pbs.twimg.com/profile_images/1294946453559955456/Ok94QllP_normal.jpg', 'profile_image_url_https': 'https://pbs.twimg.com/profile_images/1294946453559955456/Ok94QllP_normal.jpg', 'profile_banner_url': 'https://pbs.twimg.com/profile_banners/12206852/1528625756', 'profile_link_color': '1B95E0', 'profile_sidebar_border_color': '000000', 'profile_sidebar_fill_color': '000000', 'profile_text_color': '000000', 'profile_use_background_image': False, 'has_extended_profile': False, 'default_profile': False, 'default_profile_image': False, 'following': False, 'follow_request_sent': False, 'notifications': False, 'translator_type': 'none'}, 'geo': None, 'coordinates': None, 'place': None, 'contributors': None, 'is_quote_status': False, 'retweet_count': 0, 'favorite_count': 1, 'favorited': False, 'retweeted': False, 'possibly_sensitive': False, 'lang': 'en'}, created_at=datetime.datetime(2020, 11, 24, 10, 35, 21), id=1331184625314631682, id_str='1331184625314631682', full_text='In India \"Low footfall in theatres has meant no blockbusters, and without big releases, the crowds will not be back; add high costs and the spectre of a second lockdown, it is a deadly cocktail for theatres\" At least Tenet is releasing there soon. https://t.co/YOdqlB6t4W', truncated=False, display_text_range=[0, 271], entities={'hashtags': [], 'symbols': [], 'user_mentions': [], 'urls': [{'url': 'https://t.co/YOdqlB6t4W', 'expanded_url': 'https://lnkd.in/dKvSCJN', 'display_url': 'lnkd.in/dKvSCJN', 'indices': [248, 271]}]}, metadata={'iso_language_code': 'en', 'result_type': 'recent'}, source='LinkedIn', source_url='http://www.linkedin.com/', in_reply_to_status_id=None, in_reply_to_status_id_str=None, in_reply_to_user_id=None, in_reply_to_user_id_str=None, in_reply_to_screen_name=None, author=User(_api=<tweepy.api.API object at 0x00000291CA268B88>, _json={'id': 12206852, 'id_str': '12206852', 'name': 'Cinema-will-be-back Guru', 'screen_name': 'patrickvons', 'location': 'London, England', 'description': 'Editor of @CelluloidJunkie / Cinema Expert / #CJCinemaSummit host / Klubb Super8 / patrickvons@gmail.com', 'url': 'https://t.co/DM0t57xwpW', 'entities': {'url': {'urls': [{'url': 'https://t.co/DM0t57xwpW', 'expanded_url': 'http://celluloidjunkie.com', 'display_url': 'celluloidjunkie.com', 'indices': [0, 23]}]}, 'description': {'urls': []}}, 'protected': False, 'followers_count': 2772, 'friends_count': 1956, 'listed_count': 56, 'created_at': 'Mon Jan 14 06:37:45 +0000 2008', 'favourites_count': 20583, 'utc_offset': None, 'time_zone': None, 'geo_enabled': True, 'verified': False, 'statuses_count': 14811, 'lang': None, 'contributors_enabled': False, 'is_translator': False, 'is_translation_enabled': False, 'profile_background_color': '000000', 'profile_background_image_url': 'http://abs.twimg.com/images/themes/theme7/bg.gif', 'profile_background_image_url_https': 'https://abs.twimg.com/images/themes/theme7/bg.gif', 'profile_background_tile': False, 'profile_image_url': 'http://pbs.twimg.com/profile_images/1294946453559955456/Ok94QllP_normal.jpg', 'profile_image_url_https': 'https://pbs.twimg.com/profile_images/1294946453559955456/Ok94QllP_normal.jpg', 'profile_banner_url': 'https://pbs.twimg.com/profile_banners/12206852/1528625756', 'profile_link_color': '1B95E0', 'profile_sidebar_border_color': '000000', 'profile_sidebar_fill_color': '000000', 'profile_text_color': '000000', 'profile_use_background_image': False, 'has_extended_profile': False, 'default_profile': False, 'default_profile_image': False, 'following': False, 'follow_request_sent': False, 'notifications': False, 'translator_type': 'none'}, id=12206852, id_str='12206852', name='Cinema-will-be-back Guru', screen_name='patrickvons', location='London, England', description='Editor of @CelluloidJunkie / Cinema Expert / #CJCinemaSummit host / Klubb Super8 / patrickvons@gmail.com', url='https://t.co/DM0t57xwpW', entities={'url': {'urls': [{'url': 'https://t.co/DM0t57xwpW', 'expanded_url': 'http://celluloidjunkie.com', 'display_url': 'celluloidjunkie.com', 'indices': [0, 23]}]}, 'description': {'urls': []}}, protected=False, followers_count=2772, friends_count=1956, listed_count=56, created_at=datetime.datetime(2008, 1, 14, 6, 37, 45), favourites_count=20583, utc_offset=None, time_zone=None, geo_enabled=True, verified=False, statuses_count=14811, lang=None, contributors_enabled=False, is_translator=False, is_translation_enabled=False, profile_background_color='000000', profile_background_image_url='http://abs.twimg.com/images/themes/theme7/bg.gif', profile_background_image_url_https='https://abs.twimg.com/images/themes/theme7/bg.gif', profile_background_tile=False, profile_image_url='http://pbs.twimg.com/profile_images/1294946453559955456/Ok94QllP_normal.jpg', profile_image_url_https='https://pbs.twimg.com/profile_images/1294946453559955456/Ok94QllP_normal.jpg', profile_banner_url='https://pbs.twimg.com/profile_banners/12206852/1528625756', profile_link_color='1B95E0', profile_sidebar_border_color='000000', profile_sidebar_fill_color='000000', profile_text_color='000000', profile_use_background_image=False, has_extended_profile=False, default_profile=False, default_profile_image=False, following=False, follow_request_sent=False, notifications=False, translator_type='none'), user=User(_api=<tweepy.api.API object at 0x00000291CA268B88>, _json={'id': 12206852, 'id_str': '12206852', 'name': 'Cinema-will-be-back Guru', 'screen_name': 'patrickvons', 'location': 'London, England', 'description': 'Editor of @CelluloidJunkie / Cinema Expert / #CJCinemaSummit host / Klubb Super8 / patrickvons@gmail.com', 'url': 'https://t.co/DM0t57xwpW', 'entities': {'url': {'urls': [{'url': 'https://t.co/DM0t57xwpW', 'expanded_url': 'http://celluloidjunkie.com', 'display_url': 'celluloidjunkie.com', 'indices': [0, 23]}]}, 'description': {'urls': []}}, 'protected': False, 'followers_count': 2772, 'friends_count': 1956, 'listed_count': 56, 'created_at': 'Mon Jan 14 06:37:45 +0000 2008', 'favourites_count': 20583, 'utc_offset': None, 'time_zone': None, 'geo_enabled': True, 'verified': False, 'statuses_count': 14811, 'lang': None, 'contributors_enabled': False, 'is_translator': False, 'is_translation_enabled': False, 'profile_background_color': '000000', 'profile_background_image_url': 'http://abs.twimg.com/images/themes/theme7/bg.gif', 'profile_background_image_url_https': 'https://abs.twimg.com/images/themes/theme7/bg.gif', 'profile_background_tile': False, 'profile_image_url': 'http://pbs.twimg.com/profile_images/1294946453559955456/Ok94QllP_normal.jpg', 'profile_image_url_https': 'https://pbs.twimg.com/profile_images/1294946453559955456/Ok94QllP_normal.jpg', 'profile_banner_url': 'https://pbs.twimg.com/profile_banners/12206852/1528625756', 'profile_link_color': '1B95E0', 'profile_sidebar_border_color': '000000', 'profile_sidebar_fill_color': '000000', 'profile_text_color': '000000', 'profile_use_background_image': False, 'has_extended_profile': False, 'default_profile': False, 'default_profile_image': False, 'following': False, 'follow_request_sent': False, 'notifications': False, 'translator_type': 'none'}, id=12206852, id_str='12206852', name='Cinema-will-be-back Guru', screen_name='patrickvons', location='London, England', description='Editor of @CelluloidJunkie / Cinema Expert / #CJCinemaSummit host / Klubb Super8 / patrickvons@gmail.com', url='https://t.co/DM0t57xwpW', entities={'url': {'urls': [{'url': 'https://t.co/DM0t57xwpW', 'expanded_url': 'http://celluloidjunkie.com', 'display_url': 'celluloidjunkie.com', 'indices': [0, 23]}]}, 'description': {'urls': []}}, protected=False, followers_count=2772, friends_count=1956, listed_count=56, created_at=datetime.datetime(2008, 1, 14, 6, 37, 45), favourites_count=20583, utc_offset=None, time_zone=None, geo_enabled=True, verified=False, statuses_count=14811, lang=None, contributors_enabled=False, is_translator=False, is_translation_enabled=False, profile_background_color='000000', profile_background_image_url='http://abs.twimg.com/images/themes/theme7/bg.gif', profile_background_image_url_https='https://abs.twimg.com/images/themes/theme7/bg.gif', profile_background_tile=False, profile_image_url='http://pbs.twimg.com/profile_images/1294946453559955456/Ok94QllP_normal.jpg', profile_image_url_https='https://pbs.twimg.com/profile_images/1294946453559955456/Ok94QllP_normal.jpg', profile_banner_url='https://pbs.twimg.com/profile_banners/12206852/1528625756', profile_link_color='1B95E0', profile_sidebar_border_color='000000', profile_sidebar_fill_color='000000', profile_text_color='000000', profile_use_background_image=False, has_extended_profile=False, default_profile=False, default_profile_image=False, following=False, follow_request_sent=False, notifications=False, translator_type='none'), geo=None, coordinates=None, place=None, contributors=None, is_quote_status=False, retweet_count=0, favorite_count=1, favorited=False, retweeted=False, possibly_sensitive=False, lang='en') \n",
      "\n",
      "===================================\n",
      "\n",
      "Status(_api=<tweepy.api.API object at 0x00000291CA268B88>, _json={'created_at': 'Tue Nov 24 10:10:00 +0000 2020', 'id': 1331178244511588353, 'id_str': '1331178244511588353', 'full_text': 'MORE | Austria announces coronaviurs vaccination starting in January\\n\\n#SputnikUpdates https://t.co/EWX4U5t6ni', 'truncated': False, 'display_text_range': [0, 109], 'entities': {'hashtags': [{'text': 'SputnikUpdates', 'indices': [70, 85]}], 'symbols': [], 'user_mentions': [], 'urls': [{'url': 'https://t.co/EWX4U5t6ni', 'expanded_url': 'http://sptnkne.ws/EzyR', 'display_url': 'sptnkne.ws/EzyR', 'indices': [86, 109]}]}, 'metadata': {'iso_language_code': 'en', 'result_type': 'recent'}, 'source': '<a href=\"https://about.twitter.com/products/tweetdeck\" rel=\"nofollow\">TweetDeck</a>', 'in_reply_to_status_id': 1331170797059239936, 'in_reply_to_status_id_str': '1331170797059239936', 'in_reply_to_user_id': 34262462, 'in_reply_to_user_id_str': '34262462', 'in_reply_to_screen_name': 'SputnikInt', 'user': {'id': 34262462, 'id_str': '34262462', 'name': 'Sputnik', 'screen_name': 'SputnikInt', 'location': '', 'description': 'Sputnik is a global wire, radio and digital news service. We exist to tell the stories that aren’t being told.', 'url': 'https://t.co/CGNEJoSLHS', 'entities': {'url': {'urls': [{'url': 'https://t.co/CGNEJoSLHS', 'expanded_url': 'http://sputniknews.com', 'display_url': 'sputniknews.com', 'indices': [0, 23]}]}, 'description': {'urls': []}}, 'protected': False, 'followers_count': 326648, 'friends_count': 305, 'listed_count': 6613, 'created_at': 'Wed Apr 22 12:55:28 +0000 2009', 'favourites_count': 24, 'utc_offset': None, 'time_zone': None, 'geo_enabled': False, 'verified': True, 'statuses_count': 134808, 'lang': None, 'contributors_enabled': False, 'is_translator': False, 'is_translation_enabled': False, 'profile_background_color': '000000', 'profile_background_image_url': 'http://abs.twimg.com/images/themes/theme14/bg.gif', 'profile_background_image_url_https': 'https://abs.twimg.com/images/themes/theme14/bg.gif', 'profile_background_tile': True, 'profile_image_url': 'http://pbs.twimg.com/profile_images/1260474090642644993/RP5CoTOw_normal.png', 'profile_image_url_https': 'https://pbs.twimg.com/profile_images/1260474090642644993/RP5CoTOw_normal.png', 'profile_banner_url': 'https://pbs.twimg.com/profile_banners/34262462/1546604563', 'profile_link_color': 'FAB81E', 'profile_sidebar_border_color': 'FFFFFF', 'profile_sidebar_fill_color': '056EAB', 'profile_text_color': '333333', 'profile_use_background_image': False, 'has_extended_profile': False, 'default_profile': False, 'default_profile_image': False, 'following': False, 'follow_request_sent': False, 'notifications': False, 'translator_type': 'none'}, 'geo': None, 'coordinates': None, 'place': None, 'contributors': None, 'is_quote_status': False, 'retweet_count': 1, 'favorite_count': 4, 'favorited': False, 'retweeted': False, 'possibly_sensitive': False, 'lang': 'en'}, created_at=datetime.datetime(2020, 11, 24, 10, 10), id=1331178244511588353, id_str='1331178244511588353', full_text='MORE | Austria announces coronaviurs vaccination starting in January\\n\\n#SputnikUpdates https://t.co/EWX4U5t6ni', truncated=False, display_text_range=[0, 109], entities={'hashtags': [{'text': 'SputnikUpdates', 'indices': [70, 85]}], 'symbols': [], 'user_mentions': [], 'urls': [{'url': 'https://t.co/EWX4U5t6ni', 'expanded_url': 'http://sptnkne.ws/EzyR', 'display_url': 'sptnkne.ws/EzyR', 'indices': [86, 109]}]}, metadata={'iso_language_code': 'en', 'result_type': 'recent'}, source='TweetDeck', source_url='https://about.twitter.com/products/tweetdeck', in_reply_to_status_id=1331170797059239936, in_reply_to_status_id_str='1331170797059239936', in_reply_to_user_id=34262462, in_reply_to_user_id_str='34262462', in_reply_to_screen_name='SputnikInt', author=User(_api=<tweepy.api.API object at 0x00000291CA268B88>, _json={'id': 34262462, 'id_str': '34262462', 'name': 'Sputnik', 'screen_name': 'SputnikInt', 'location': '', 'description': 'Sputnik is a global wire, radio and digital news service. We exist to tell the stories that aren’t being told.', 'url': 'https://t.co/CGNEJoSLHS', 'entities': {'url': {'urls': [{'url': 'https://t.co/CGNEJoSLHS', 'expanded_url': 'http://sputniknews.com', 'display_url': 'sputniknews.com', 'indices': [0, 23]}]}, 'description': {'urls': []}}, 'protected': False, 'followers_count': 326648, 'friends_count': 305, 'listed_count': 6613, 'created_at': 'Wed Apr 22 12:55:28 +0000 2009', 'favourites_count': 24, 'utc_offset': None, 'time_zone': None, 'geo_enabled': False, 'verified': True, 'statuses_count': 134808, 'lang': None, 'contributors_enabled': False, 'is_translator': False, 'is_translation_enabled': False, 'profile_background_color': '000000', 'profile_background_image_url': 'http://abs.twimg.com/images/themes/theme14/bg.gif', 'profile_background_image_url_https': 'https://abs.twimg.com/images/themes/theme14/bg.gif', 'profile_background_tile': True, 'profile_image_url': 'http://pbs.twimg.com/profile_images/1260474090642644993/RP5CoTOw_normal.png', 'profile_image_url_https': 'https://pbs.twimg.com/profile_images/1260474090642644993/RP5CoTOw_normal.png', 'profile_banner_url': 'https://pbs.twimg.com/profile_banners/34262462/1546604563', 'profile_link_color': 'FAB81E', 'profile_sidebar_border_color': 'FFFFFF', 'profile_sidebar_fill_color': '056EAB', 'profile_text_color': '333333', 'profile_use_background_image': False, 'has_extended_profile': False, 'default_profile': False, 'default_profile_image': False, 'following': False, 'follow_request_sent': False, 'notifications': False, 'translator_type': 'none'}, id=34262462, id_str='34262462', name='Sputnik', screen_name='SputnikInt', location='', description='Sputnik is a global wire, radio and digital news service. We exist to tell the stories that aren’t being told.', url='https://t.co/CGNEJoSLHS', entities={'url': {'urls': [{'url': 'https://t.co/CGNEJoSLHS', 'expanded_url': 'http://sputniknews.com', 'display_url': 'sputniknews.com', 'indices': [0, 23]}]}, 'description': {'urls': []}}, protected=False, followers_count=326648, friends_count=305, listed_count=6613, created_at=datetime.datetime(2009, 4, 22, 12, 55, 28), favourites_count=24, utc_offset=None, time_zone=None, geo_enabled=False, verified=True, statuses_count=134808, lang=None, contributors_enabled=False, is_translator=False, is_translation_enabled=False, profile_background_color='000000', profile_background_image_url='http://abs.twimg.com/images/themes/theme14/bg.gif', profile_background_image_url_https='https://abs.twimg.com/images/themes/theme14/bg.gif', profile_background_tile=True, profile_image_url='http://pbs.twimg.com/profile_images/1260474090642644993/RP5CoTOw_normal.png', profile_image_url_https='https://pbs.twimg.com/profile_images/1260474090642644993/RP5CoTOw_normal.png', profile_banner_url='https://pbs.twimg.com/profile_banners/34262462/1546604563', profile_link_color='FAB81E', profile_sidebar_border_color='FFFFFF', profile_sidebar_fill_color='056EAB', profile_text_color='333333', profile_use_background_image=False, has_extended_profile=False, default_profile=False, default_profile_image=False, following=False, follow_request_sent=False, notifications=False, translator_type='none'), user=User(_api=<tweepy.api.API object at 0x00000291CA268B88>, _json={'id': 34262462, 'id_str': '34262462', 'name': 'Sputnik', 'screen_name': 'SputnikInt', 'location': '', 'description': 'Sputnik is a global wire, radio and digital news service. We exist to tell the stories that aren’t being told.', 'url': 'https://t.co/CGNEJoSLHS', 'entities': {'url': {'urls': [{'url': 'https://t.co/CGNEJoSLHS', 'expanded_url': 'http://sputniknews.com', 'display_url': 'sputniknews.com', 'indices': [0, 23]}]}, 'description': {'urls': []}}, 'protected': False, 'followers_count': 326648, 'friends_count': 305, 'listed_count': 6613, 'created_at': 'Wed Apr 22 12:55:28 +0000 2009', 'favourites_count': 24, 'utc_offset': None, 'time_zone': None, 'geo_enabled': False, 'verified': True, 'statuses_count': 134808, 'lang': None, 'contributors_enabled': False, 'is_translator': False, 'is_translation_enabled': False, 'profile_background_color': '000000', 'profile_background_image_url': 'http://abs.twimg.com/images/themes/theme14/bg.gif', 'profile_background_image_url_https': 'https://abs.twimg.com/images/themes/theme14/bg.gif', 'profile_background_tile': True, 'profile_image_url': 'http://pbs.twimg.com/profile_images/1260474090642644993/RP5CoTOw_normal.png', 'profile_image_url_https': 'https://pbs.twimg.com/profile_images/1260474090642644993/RP5CoTOw_normal.png', 'profile_banner_url': 'https://pbs.twimg.com/profile_banners/34262462/1546604563', 'profile_link_color': 'FAB81E', 'profile_sidebar_border_color': 'FFFFFF', 'profile_sidebar_fill_color': '056EAB', 'profile_text_color': '333333', 'profile_use_background_image': False, 'has_extended_profile': False, 'default_profile': False, 'default_profile_image': False, 'following': False, 'follow_request_sent': False, 'notifications': False, 'translator_type': 'none'}, id=34262462, id_str='34262462', name='Sputnik', screen_name='SputnikInt', location='', description='Sputnik is a global wire, radio and digital news service. We exist to tell the stories that aren’t being told.', url='https://t.co/CGNEJoSLHS', entities={'url': {'urls': [{'url': 'https://t.co/CGNEJoSLHS', 'expanded_url': 'http://sputniknews.com', 'display_url': 'sputniknews.com', 'indices': [0, 23]}]}, 'description': {'urls': []}}, protected=False, followers_count=326648, friends_count=305, listed_count=6613, created_at=datetime.datetime(2009, 4, 22, 12, 55, 28), favourites_count=24, utc_offset=None, time_zone=None, geo_enabled=False, verified=True, statuses_count=134808, lang=None, contributors_enabled=False, is_translator=False, is_translation_enabled=False, profile_background_color='000000', profile_background_image_url='http://abs.twimg.com/images/themes/theme14/bg.gif', profile_background_image_url_https='https://abs.twimg.com/images/themes/theme14/bg.gif', profile_background_tile=True, profile_image_url='http://pbs.twimg.com/profile_images/1260474090642644993/RP5CoTOw_normal.png', profile_image_url_https='https://pbs.twimg.com/profile_images/1260474090642644993/RP5CoTOw_normal.png', profile_banner_url='https://pbs.twimg.com/profile_banners/34262462/1546604563', profile_link_color='FAB81E', profile_sidebar_border_color='FFFFFF', profile_sidebar_fill_color='056EAB', profile_text_color='333333', profile_use_background_image=False, has_extended_profile=False, default_profile=False, default_profile_image=False, following=False, follow_request_sent=False, notifications=False, translator_type='none'), geo=None, coordinates=None, place=None, contributors=None, is_quote_status=False, retweet_count=1, favorite_count=4, favorited=False, retweeted=False, possibly_sensitive=False, lang='en') \n",
      "\n",
      "===================================\n",
      "\n",
      "Status(_api=<tweepy.api.API object at 0x00000291CA268B88>, _json={'created_at': 'Tue Nov 24 10:00:00 +0000 2020', 'id': 1331175730999414791, 'id_str': '1331175730999414791', 'full_text': 'COVID 19 cases in India until : 24/11/2020 15:30\\n\\nTotal Cases: 9179425 [+1672]😅\\nActive: 438311🖖🏽\\nRecovered: 8604763 [+1124]❤\\nDeaths :134273 [+19]🙏🏼\\nTotal Tests: 133.68M🧪\\n\\nData- @covid19indiaorg\\n#CoronaVirus #COVID19inIndia #India #Bot', 'truncated': False, 'display_text_range': [0, 234], 'entities': {'hashtags': [{'text': 'CoronaVirus', 'indices': [194, 206]}, {'text': 'COVID19inIndia', 'indices': [207, 222]}, {'text': 'India', 'indices': [223, 229]}, {'text': 'Bot', 'indices': [230, 234]}], 'symbols': [], 'user_mentions': [{'screen_name': 'covid19indiaorg', 'name': 'covid19indiaorg', 'id': 1240561169296814080, 'id_str': '1240561169296814080', 'indices': [177, 193]}], 'urls': []}, 'metadata': {'iso_language_code': 'en', 'result_type': 'recent'}, 'source': '<a href=\"https://indiacovid19bot.azurewebsites.net/\" rel=\"nofollow\">BharatCovid19Bot</a>', 'in_reply_to_status_id': None, 'in_reply_to_status_id_str': None, 'in_reply_to_user_id': None, 'in_reply_to_user_id_str': None, 'in_reply_to_screen_name': None, 'user': {'id': 1254115932021993472, 'id_str': '1254115932021993472', 'name': 'Coronavirus Bot 🇮🇳', 'screen_name': 'IndiaCovid19Bot', 'location': '', 'description': \"A bot HOURLY posting India's Covid 19 numbers.\\nRuns from 9am to 11 30pm IST. \\nMade by \\n@SamitShirsat\", 'url': None, 'entities': {'description': {'urls': []}}, 'protected': False, 'followers_count': 115, 'friends_count': 2, 'listed_count': 2, 'created_at': 'Sat Apr 25 18:32:00 +0000 2020', 'favourites_count': 8, 'utc_offset': None, 'time_zone': None, 'geo_enabled': False, 'verified': False, 'statuses_count': 3167, 'lang': None, 'contributors_enabled': False, 'is_translator': False, 'is_translation_enabled': False, 'profile_background_color': 'F5F8FA', 'profile_background_image_url': None, 'profile_background_image_url_https': None, 'profile_background_tile': False, 'profile_image_url': 'http://pbs.twimg.com/profile_images/1254353902364852224/UKUj3u4l_normal.jpg', 'profile_image_url_https': 'https://pbs.twimg.com/profile_images/1254353902364852224/UKUj3u4l_normal.jpg', 'profile_banner_url': 'https://pbs.twimg.com/profile_banners/1254115932021993472/1587896661', 'profile_link_color': '1DA1F2', 'profile_sidebar_border_color': 'C0DEED', 'profile_sidebar_fill_color': 'DDEEF6', 'profile_text_color': '333333', 'profile_use_background_image': True, 'has_extended_profile': False, 'default_profile': True, 'default_profile_image': False, 'following': False, 'follow_request_sent': False, 'notifications': False, 'translator_type': 'none'}, 'geo': None, 'coordinates': None, 'place': None, 'contributors': None, 'is_quote_status': False, 'retweet_count': 0, 'favorite_count': 1, 'favorited': False, 'retweeted': False, 'lang': 'en'}, created_at=datetime.datetime(2020, 11, 24, 10, 0), id=1331175730999414791, id_str='1331175730999414791', full_text='COVID 19 cases in India until : 24/11/2020 15:30\\n\\nTotal Cases: 9179425 [+1672]😅\\nActive: 438311🖖🏽\\nRecovered: 8604763 [+1124]❤\\nDeaths :134273 [+19]🙏🏼\\nTotal Tests: 133.68M🧪\\n\\nData- @covid19indiaorg\\n#CoronaVirus #COVID19inIndia #India #Bot', truncated=False, display_text_range=[0, 234], entities={'hashtags': [{'text': 'CoronaVirus', 'indices': [194, 206]}, {'text': 'COVID19inIndia', 'indices': [207, 222]}, {'text': 'India', 'indices': [223, 229]}, {'text': 'Bot', 'indices': [230, 234]}], 'symbols': [], 'user_mentions': [{'screen_name': 'covid19indiaorg', 'name': 'covid19indiaorg', 'id': 1240561169296814080, 'id_str': '1240561169296814080', 'indices': [177, 193]}], 'urls': []}, metadata={'iso_language_code': 'en', 'result_type': 'recent'}, source='BharatCovid19Bot', source_url='https://indiacovid19bot.azurewebsites.net/', in_reply_to_status_id=None, in_reply_to_status_id_str=None, in_reply_to_user_id=None, in_reply_to_user_id_str=None, in_reply_to_screen_name=None, author=User(_api=<tweepy.api.API object at 0x00000291CA268B88>, _json={'id': 1254115932021993472, 'id_str': '1254115932021993472', 'name': 'Coronavirus Bot 🇮🇳', 'screen_name': 'IndiaCovid19Bot', 'location': '', 'description': \"A bot HOURLY posting India's Covid 19 numbers.\\nRuns from 9am to 11 30pm IST. \\nMade by \\n@SamitShirsat\", 'url': None, 'entities': {'description': {'urls': []}}, 'protected': False, 'followers_count': 115, 'friends_count': 2, 'listed_count': 2, 'created_at': 'Sat Apr 25 18:32:00 +0000 2020', 'favourites_count': 8, 'utc_offset': None, 'time_zone': None, 'geo_enabled': False, 'verified': False, 'statuses_count': 3167, 'lang': None, 'contributors_enabled': False, 'is_translator': False, 'is_translation_enabled': False, 'profile_background_color': 'F5F8FA', 'profile_background_image_url': None, 'profile_background_image_url_https': None, 'profile_background_tile': False, 'profile_image_url': 'http://pbs.twimg.com/profile_images/1254353902364852224/UKUj3u4l_normal.jpg', 'profile_image_url_https': 'https://pbs.twimg.com/profile_images/1254353902364852224/UKUj3u4l_normal.jpg', 'profile_banner_url': 'https://pbs.twimg.com/profile_banners/1254115932021993472/1587896661', 'profile_link_color': '1DA1F2', 'profile_sidebar_border_color': 'C0DEED', 'profile_sidebar_fill_color': 'DDEEF6', 'profile_text_color': '333333', 'profile_use_background_image': True, 'has_extended_profile': False, 'default_profile': True, 'default_profile_image': False, 'following': False, 'follow_request_sent': False, 'notifications': False, 'translator_type': 'none'}, id=1254115932021993472, id_str='1254115932021993472', name='Coronavirus Bot 🇮🇳', screen_name='IndiaCovid19Bot', location='', description=\"A bot HOURLY posting India's Covid 19 numbers.\\nRuns from 9am to 11 30pm IST. \\nMade by \\n@SamitShirsat\", url=None, entities={'description': {'urls': []}}, protected=False, followers_count=115, friends_count=2, listed_count=2, created_at=datetime.datetime(2020, 4, 25, 18, 32), favourites_count=8, utc_offset=None, time_zone=None, geo_enabled=False, verified=False, statuses_count=3167, lang=None, contributors_enabled=False, is_translator=False, is_translation_enabled=False, profile_background_color='F5F8FA', profile_background_image_url=None, profile_background_image_url_https=None, profile_background_tile=False, profile_image_url='http://pbs.twimg.com/profile_images/1254353902364852224/UKUj3u4l_normal.jpg', profile_image_url_https='https://pbs.twimg.com/profile_images/1254353902364852224/UKUj3u4l_normal.jpg', profile_banner_url='https://pbs.twimg.com/profile_banners/1254115932021993472/1587896661', profile_link_color='1DA1F2', profile_sidebar_border_color='C0DEED', profile_sidebar_fill_color='DDEEF6', profile_text_color='333333', profile_use_background_image=True, has_extended_profile=False, default_profile=True, default_profile_image=False, following=False, follow_request_sent=False, notifications=False, translator_type='none'), user=User(_api=<tweepy.api.API object at 0x00000291CA268B88>, _json={'id': 1254115932021993472, 'id_str': '1254115932021993472', 'name': 'Coronavirus Bot 🇮🇳', 'screen_name': 'IndiaCovid19Bot', 'location': '', 'description': \"A bot HOURLY posting India's Covid 19 numbers.\\nRuns from 9am to 11 30pm IST. \\nMade by \\n@SamitShirsat\", 'url': None, 'entities': {'description': {'urls': []}}, 'protected': False, 'followers_count': 115, 'friends_count': 2, 'listed_count': 2, 'created_at': 'Sat Apr 25 18:32:00 +0000 2020', 'favourites_count': 8, 'utc_offset': None, 'time_zone': None, 'geo_enabled': False, 'verified': False, 'statuses_count': 3167, 'lang': None, 'contributors_enabled': False, 'is_translator': False, 'is_translation_enabled': False, 'profile_background_color': 'F5F8FA', 'profile_background_image_url': None, 'profile_background_image_url_https': None, 'profile_background_tile': False, 'profile_image_url': 'http://pbs.twimg.com/profile_images/1254353902364852224/UKUj3u4l_normal.jpg', 'profile_image_url_https': 'https://pbs.twimg.com/profile_images/1254353902364852224/UKUj3u4l_normal.jpg', 'profile_banner_url': 'https://pbs.twimg.com/profile_banners/1254115932021993472/1587896661', 'profile_link_color': '1DA1F2', 'profile_sidebar_border_color': 'C0DEED', 'profile_sidebar_fill_color': 'DDEEF6', 'profile_text_color': '333333', 'profile_use_background_image': True, 'has_extended_profile': False, 'default_profile': True, 'default_profile_image': False, 'following': False, 'follow_request_sent': False, 'notifications': False, 'translator_type': 'none'}, id=1254115932021993472, id_str='1254115932021993472', name='Coronavirus Bot 🇮🇳', screen_name='IndiaCovid19Bot', location='', description=\"A bot HOURLY posting India's Covid 19 numbers.\\nRuns from 9am to 11 30pm IST. \\nMade by \\n@SamitShirsat\", url=None, entities={'description': {'urls': []}}, protected=False, followers_count=115, friends_count=2, listed_count=2, created_at=datetime.datetime(2020, 4, 25, 18, 32), favourites_count=8, utc_offset=None, time_zone=None, geo_enabled=False, verified=False, statuses_count=3167, lang=None, contributors_enabled=False, is_translator=False, is_translation_enabled=False, profile_background_color='F5F8FA', profile_background_image_url=None, profile_background_image_url_https=None, profile_background_tile=False, profile_image_url='http://pbs.twimg.com/profile_images/1254353902364852224/UKUj3u4l_normal.jpg', profile_image_url_https='https://pbs.twimg.com/profile_images/1254353902364852224/UKUj3u4l_normal.jpg', profile_banner_url='https://pbs.twimg.com/profile_banners/1254115932021993472/1587896661', profile_link_color='1DA1F2', profile_sidebar_border_color='C0DEED', profile_sidebar_fill_color='DDEEF6', profile_text_color='333333', profile_use_background_image=True, has_extended_profile=False, default_profile=True, default_profile_image=False, following=False, follow_request_sent=False, notifications=False, translator_type='none'), geo=None, coordinates=None, place=None, contributors=None, is_quote_status=False, retweet_count=0, favorite_count=1, favorited=False, retweeted=False, lang='en') \n",
      "\n",
      "===================================\n",
      "\n",
      "Status(_api=<tweepy.api.API object at 0x00000291CA268B88>, _json={'created_at': 'Tue Nov 24 09:58:29 +0000 2020', 'id': 1331175348189335552, 'id_str': '1331175348189335552', 'full_text': 'On #PeoplesEditor at 7pmIST tonight-With a high recovery rate but surge in cases where does #India stand on the #Covid battle &amp; what are the challenges in its #Vaccine quest?Joining me @AnooBhu &amp; noted virologist Dr.Shahid Jameel @mukhia_ji @IndiaAheadNews https://t.co/Mt1H2gAtbi https://t.co/OdH4ldSeEp', 'truncated': False, 'display_text_range': [0, 288], 'entities': {'hashtags': [{'text': 'PeoplesEditor', 'indices': [3, 17]}, {'text': 'India', 'indices': [92, 98]}, {'text': 'Covid', 'indices': [112, 118]}, {'text': 'Vaccine', 'indices': [163, 171]}], 'symbols': [], 'user_mentions': [{'screen_name': 'AnooBhu', 'name': 'Anoo Bhuyan', 'id': 260782440, 'id_str': '260782440', 'indices': [189, 197]}, {'screen_name': 'mukhia_ji', 'name': 'MukhiaJi', 'id': 432313632, 'id_str': '432313632', 'indices': [238, 248]}, {'screen_name': 'IndiaAheadNews', 'name': 'India Ahead News', 'id': 979273137136300032, 'id_str': '979273137136300032', 'indices': [249, 264]}], 'urls': [{'url': 'https://t.co/Mt1H2gAtbi', 'expanded_url': 'https://youtu.be/ZpTs-mOx7zg', 'display_url': 'youtu.be/ZpTs-mOx7zg', 'indices': [265, 288]}], 'media': [{'id': 1331175335551930369, 'id_str': '1331175335551930369', 'indices': [289, 312], 'media_url': 'http://pbs.twimg.com/media/EnlI6jFVkAEyMls.jpg', 'media_url_https': 'https://pbs.twimg.com/media/EnlI6jFVkAEyMls.jpg', 'url': 'https://t.co/OdH4ldSeEp', 'display_url': 'pic.twitter.com/OdH4ldSeEp', 'expanded_url': 'https://twitter.com/Smita_Sharma/status/1331175348189335552/photo/1', 'type': 'photo', 'sizes': {'thumb': {'w': 150, 'h': 150, 'resize': 'crop'}, 'small': {'w': 680, 'h': 391, 'resize': 'fit'}, 'medium': {'w': 750, 'h': 431, 'resize': 'fit'}, 'large': {'w': 750, 'h': 431, 'resize': 'fit'}}}]}, 'extended_entities': {'media': [{'id': 1331175335551930369, 'id_str': '1331175335551930369', 'indices': [289, 312], 'media_url': 'http://pbs.twimg.com/media/EnlI6jFVkAEyMls.jpg', 'media_url_https': 'https://pbs.twimg.com/media/EnlI6jFVkAEyMls.jpg', 'url': 'https://t.co/OdH4ldSeEp', 'display_url': 'pic.twitter.com/OdH4ldSeEp', 'expanded_url': 'https://twitter.com/Smita_Sharma/status/1331175348189335552/photo/1', 'type': 'photo', 'sizes': {'thumb': {'w': 150, 'h': 150, 'resize': 'crop'}, 'small': {'w': 680, 'h': 391, 'resize': 'fit'}, 'medium': {'w': 750, 'h': 431, 'resize': 'fit'}, 'large': {'w': 750, 'h': 431, 'resize': 'fit'}}}, {'id': 1331175335564439554, 'id_str': '1331175335564439554', 'indices': [289, 312], 'media_url': 'http://pbs.twimg.com/media/EnlI6jIUcAIQt4m.jpg', 'media_url_https': 'https://pbs.twimg.com/media/EnlI6jIUcAIQt4m.jpg', 'url': 'https://t.co/OdH4ldSeEp', 'display_url': 'pic.twitter.com/OdH4ldSeEp', 'expanded_url': 'https://twitter.com/Smita_Sharma/status/1331175348189335552/photo/1', 'type': 'photo', 'sizes': {'thumb': {'w': 150, 'h': 150, 'resize': 'crop'}, 'small': {'w': 680, 'h': 383, 'resize': 'fit'}, 'large': {'w': 1280, 'h': 720, 'resize': 'fit'}, 'medium': {'w': 1200, 'h': 675, 'resize': 'fit'}}}, {'id': 1331175335564509184, 'id_str': '1331175335564509184', 'indices': [289, 312], 'media_url': 'http://pbs.twimg.com/media/EnlI6jIVgAAFSaN.jpg', 'media_url_https': 'https://pbs.twimg.com/media/EnlI6jIVgAAFSaN.jpg', 'url': 'https://t.co/OdH4ldSeEp', 'display_url': 'pic.twitter.com/OdH4ldSeEp', 'expanded_url': 'https://twitter.com/Smita_Sharma/status/1331175348189335552/photo/1', 'type': 'photo', 'sizes': {'thumb': {'w': 150, 'h': 150, 'resize': 'crop'}, 'medium': {'w': 1200, 'h': 675, 'resize': 'fit'}, 'small': {'w': 680, 'h': 383, 'resize': 'fit'}, 'large': {'w': 1280, 'h': 720, 'resize': 'fit'}}}]}, 'metadata': {'iso_language_code': 'en', 'result_type': 'recent'}, 'source': '<a href=\"http://twitter.com/download/iphone\" rel=\"nofollow\">Twitter for iPhone</a>', 'in_reply_to_status_id': None, 'in_reply_to_status_id_str': None, 'in_reply_to_user_id': None, 'in_reply_to_user_id_str': None, 'in_reply_to_screen_name': None, 'user': {'id': 74977930, 'id_str': '74977930', 'name': 'Smita Sharma', 'screen_name': 'Smita_Sharma', 'location': 'New Delhi ', 'description': 'Independent Journalist | Focus On Foreign Policy | https://t.co/xATBZGnRKn https://t.co/qWV1V528s7 Abusers Blocked', 'url': 'https://t.co/uxjfq9cilE', 'entities': {'url': {'urls': [{'url': 'https://t.co/uxjfq9cilE', 'expanded_url': 'https://www.youtube.com/user/mesanssmile', 'display_url': 'youtube.com/user/mesanssmi…', 'indices': [0, 23]}]}, 'description': {'urls': [{'url': 'https://t.co/xATBZGnRKn', 'expanded_url': 'https://www.sawmsisters.com/author/smitasharma/', 'display_url': 'sawmsisters.com/author/smitash…', 'indices': [51, 74]}, {'url': 'https://t.co/qWV1V528s7', 'expanded_url': 'https://m.facebook.com/SmitaSharmaJournalist/', 'display_url': 'm.facebook.com/SmitaSharmaJou…', 'indices': [75, 98]}]}}, 'protected': False, 'followers_count': 57226, 'friends_count': 402, 'listed_count': 298, 'created_at': 'Thu Sep 17 10:03:58 +0000 2009', 'favourites_count': 18576, 'utc_offset': None, 'time_zone': None, 'geo_enabled': False, 'verified': True, 'statuses_count': 32814, 'lang': None, 'contributors_enabled': False, 'is_translator': False, 'is_translation_enabled': False, 'profile_background_color': 'B2DFDA', 'profile_background_image_url': 'http://abs.twimg.com/images/themes/theme13/bg.gif', 'profile_background_image_url_https': 'https://abs.twimg.com/images/themes/theme13/bg.gif', 'profile_background_tile': False, 'profile_image_url': 'http://pbs.twimg.com/profile_images/1324198094330757120/RtnIEIk3_normal.jpg', 'profile_image_url_https': 'https://pbs.twimg.com/profile_images/1324198094330757120/RtnIEIk3_normal.jpg', 'profile_banner_url': 'https://pbs.twimg.com/profile_banners/74977930/1601217954', 'profile_link_color': '93A644', 'profile_sidebar_border_color': 'FFFFFF', 'profile_sidebar_fill_color': 'FFFFFF', 'profile_text_color': '333333', 'profile_use_background_image': True, 'has_extended_profile': True, 'default_profile': False, 'default_profile_image': False, 'following': False, 'follow_request_sent': False, 'notifications': False, 'translator_type': 'none'}, 'geo': None, 'coordinates': None, 'place': None, 'contributors': None, 'is_quote_status': False, 'retweet_count': 3, 'favorite_count': 15, 'favorited': False, 'retweeted': False, 'possibly_sensitive': False, 'lang': 'en'}, created_at=datetime.datetime(2020, 11, 24, 9, 58, 29), id=1331175348189335552, id_str='1331175348189335552', full_text='On #PeoplesEditor at 7pmIST tonight-With a high recovery rate but surge in cases where does #India stand on the #Covid battle &amp; what are the challenges in its #Vaccine quest?Joining me @AnooBhu &amp; noted virologist Dr.Shahid Jameel @mukhia_ji @IndiaAheadNews https://t.co/Mt1H2gAtbi https://t.co/OdH4ldSeEp', truncated=False, display_text_range=[0, 288], entities={'hashtags': [{'text': 'PeoplesEditor', 'indices': [3, 17]}, {'text': 'India', 'indices': [92, 98]}, {'text': 'Covid', 'indices': [112, 118]}, {'text': 'Vaccine', 'indices': [163, 171]}], 'symbols': [], 'user_mentions': [{'screen_name': 'AnooBhu', 'name': 'Anoo Bhuyan', 'id': 260782440, 'id_str': '260782440', 'indices': [189, 197]}, {'screen_name': 'mukhia_ji', 'name': 'MukhiaJi', 'id': 432313632, 'id_str': '432313632', 'indices': [238, 248]}, {'screen_name': 'IndiaAheadNews', 'name': 'India Ahead News', 'id': 979273137136300032, 'id_str': '979273137136300032', 'indices': [249, 264]}], 'urls': [{'url': 'https://t.co/Mt1H2gAtbi', 'expanded_url': 'https://youtu.be/ZpTs-mOx7zg', 'display_url': 'youtu.be/ZpTs-mOx7zg', 'indices': [265, 288]}], 'media': [{'id': 1331175335551930369, 'id_str': '1331175335551930369', 'indices': [289, 312], 'media_url': 'http://pbs.twimg.com/media/EnlI6jFVkAEyMls.jpg', 'media_url_https': 'https://pbs.twimg.com/media/EnlI6jFVkAEyMls.jpg', 'url': 'https://t.co/OdH4ldSeEp', 'display_url': 'pic.twitter.com/OdH4ldSeEp', 'expanded_url': 'https://twitter.com/Smita_Sharma/status/1331175348189335552/photo/1', 'type': 'photo', 'sizes': {'thumb': {'w': 150, 'h': 150, 'resize': 'crop'}, 'small': {'w': 680, 'h': 391, 'resize': 'fit'}, 'medium': {'w': 750, 'h': 431, 'resize': 'fit'}, 'large': {'w': 750, 'h': 431, 'resize': 'fit'}}}]}, extended_entities={'media': [{'id': 1331175335551930369, 'id_str': '1331175335551930369', 'indices': [289, 312], 'media_url': 'http://pbs.twimg.com/media/EnlI6jFVkAEyMls.jpg', 'media_url_https': 'https://pbs.twimg.com/media/EnlI6jFVkAEyMls.jpg', 'url': 'https://t.co/OdH4ldSeEp', 'display_url': 'pic.twitter.com/OdH4ldSeEp', 'expanded_url': 'https://twitter.com/Smita_Sharma/status/1331175348189335552/photo/1', 'type': 'photo', 'sizes': {'thumb': {'w': 150, 'h': 150, 'resize': 'crop'}, 'small': {'w': 680, 'h': 391, 'resize': 'fit'}, 'medium': {'w': 750, 'h': 431, 'resize': 'fit'}, 'large': {'w': 750, 'h': 431, 'resize': 'fit'}}}, {'id': 1331175335564439554, 'id_str': '1331175335564439554', 'indices': [289, 312], 'media_url': 'http://pbs.twimg.com/media/EnlI6jIUcAIQt4m.jpg', 'media_url_https': 'https://pbs.twimg.com/media/EnlI6jIUcAIQt4m.jpg', 'url': 'https://t.co/OdH4ldSeEp', 'display_url': 'pic.twitter.com/OdH4ldSeEp', 'expanded_url': 'https://twitter.com/Smita_Sharma/status/1331175348189335552/photo/1', 'type': 'photo', 'sizes': {'thumb': {'w': 150, 'h': 150, 'resize': 'crop'}, 'small': {'w': 680, 'h': 383, 'resize': 'fit'}, 'large': {'w': 1280, 'h': 720, 'resize': 'fit'}, 'medium': {'w': 1200, 'h': 675, 'resize': 'fit'}}}, {'id': 1331175335564509184, 'id_str': '1331175335564509184', 'indices': [289, 312], 'media_url': 'http://pbs.twimg.com/media/EnlI6jIVgAAFSaN.jpg', 'media_url_https': 'https://pbs.twimg.com/media/EnlI6jIVgAAFSaN.jpg', 'url': 'https://t.co/OdH4ldSeEp', 'display_url': 'pic.twitter.com/OdH4ldSeEp', 'expanded_url': 'https://twitter.com/Smita_Sharma/status/1331175348189335552/photo/1', 'type': 'photo', 'sizes': {'thumb': {'w': 150, 'h': 150, 'resize': 'crop'}, 'medium': {'w': 1200, 'h': 675, 'resize': 'fit'}, 'small': {'w': 680, 'h': 383, 'resize': 'fit'}, 'large': {'w': 1280, 'h': 720, 'resize': 'fit'}}}]}, metadata={'iso_language_code': 'en', 'result_type': 'recent'}, source='Twitter for iPhone', source_url='http://twitter.com/download/iphone', in_reply_to_status_id=None, in_reply_to_status_id_str=None, in_reply_to_user_id=None, in_reply_to_user_id_str=None, in_reply_to_screen_name=None, author=User(_api=<tweepy.api.API object at 0x00000291CA268B88>, _json={'id': 74977930, 'id_str': '74977930', 'name': 'Smita Sharma', 'screen_name': 'Smita_Sharma', 'location': 'New Delhi ', 'description': 'Independent Journalist | Focus On Foreign Policy | https://t.co/xATBZGnRKn https://t.co/qWV1V528s7 Abusers Blocked', 'url': 'https://t.co/uxjfq9cilE', 'entities': {'url': {'urls': [{'url': 'https://t.co/uxjfq9cilE', 'expanded_url': 'https://www.youtube.com/user/mesanssmile', 'display_url': 'youtube.com/user/mesanssmi…', 'indices': [0, 23]}]}, 'description': {'urls': [{'url': 'https://t.co/xATBZGnRKn', 'expanded_url': 'https://www.sawmsisters.com/author/smitasharma/', 'display_url': 'sawmsisters.com/author/smitash…', 'indices': [51, 74]}, {'url': 'https://t.co/qWV1V528s7', 'expanded_url': 'https://m.facebook.com/SmitaSharmaJournalist/', 'display_url': 'm.facebook.com/SmitaSharmaJou…', 'indices': [75, 98]}]}}, 'protected': False, 'followers_count': 57226, 'friends_count': 402, 'listed_count': 298, 'created_at': 'Thu Sep 17 10:03:58 +0000 2009', 'favourites_count': 18576, 'utc_offset': None, 'time_zone': None, 'geo_enabled': False, 'verified': True, 'statuses_count': 32814, 'lang': None, 'contributors_enabled': False, 'is_translator': False, 'is_translation_enabled': False, 'profile_background_color': 'B2DFDA', 'profile_background_image_url': 'http://abs.twimg.com/images/themes/theme13/bg.gif', 'profile_background_image_url_https': 'https://abs.twimg.com/images/themes/theme13/bg.gif', 'profile_background_tile': False, 'profile_image_url': 'http://pbs.twimg.com/profile_images/1324198094330757120/RtnIEIk3_normal.jpg', 'profile_image_url_https': 'https://pbs.twimg.com/profile_images/1324198094330757120/RtnIEIk3_normal.jpg', 'profile_banner_url': 'https://pbs.twimg.com/profile_banners/74977930/1601217954', 'profile_link_color': '93A644', 'profile_sidebar_border_color': 'FFFFFF', 'profile_sidebar_fill_color': 'FFFFFF', 'profile_text_color': '333333', 'profile_use_background_image': True, 'has_extended_profile': True, 'default_profile': False, 'default_profile_image': False, 'following': False, 'follow_request_sent': False, 'notifications': False, 'translator_type': 'none'}, id=74977930, id_str='74977930', name='Smita Sharma', screen_name='Smita_Sharma', location='New Delhi ', description='Independent Journalist | Focus On Foreign Policy | https://t.co/xATBZGnRKn https://t.co/qWV1V528s7 Abusers Blocked', url='https://t.co/uxjfq9cilE', entities={'url': {'urls': [{'url': 'https://t.co/uxjfq9cilE', 'expanded_url': 'https://www.youtube.com/user/mesanssmile', 'display_url': 'youtube.com/user/mesanssmi…', 'indices': [0, 23]}]}, 'description': {'urls': [{'url': 'https://t.co/xATBZGnRKn', 'expanded_url': 'https://www.sawmsisters.com/author/smitasharma/', 'display_url': 'sawmsisters.com/author/smitash…', 'indices': [51, 74]}, {'url': 'https://t.co/qWV1V528s7', 'expanded_url': 'https://m.facebook.com/SmitaSharmaJournalist/', 'display_url': 'm.facebook.com/SmitaSharmaJou…', 'indices': [75, 98]}]}}, protected=False, followers_count=57226, friends_count=402, listed_count=298, created_at=datetime.datetime(2009, 9, 17, 10, 3, 58), favourites_count=18576, utc_offset=None, time_zone=None, geo_enabled=False, verified=True, statuses_count=32814, lang=None, contributors_enabled=False, is_translator=False, is_translation_enabled=False, profile_background_color='B2DFDA', profile_background_image_url='http://abs.twimg.com/images/themes/theme13/bg.gif', profile_background_image_url_https='https://abs.twimg.com/images/themes/theme13/bg.gif', profile_background_tile=False, profile_image_url='http://pbs.twimg.com/profile_images/1324198094330757120/RtnIEIk3_normal.jpg', profile_image_url_https='https://pbs.twimg.com/profile_images/1324198094330757120/RtnIEIk3_normal.jpg', profile_banner_url='https://pbs.twimg.com/profile_banners/74977930/1601217954', profile_link_color='93A644', profile_sidebar_border_color='FFFFFF', profile_sidebar_fill_color='FFFFFF', profile_text_color='333333', profile_use_background_image=True, has_extended_profile=True, default_profile=False, default_profile_image=False, following=False, follow_request_sent=False, notifications=False, translator_type='none'), user=User(_api=<tweepy.api.API object at 0x00000291CA268B88>, _json={'id': 74977930, 'id_str': '74977930', 'name': 'Smita Sharma', 'screen_name': 'Smita_Sharma', 'location': 'New Delhi ', 'description': 'Independent Journalist | Focus On Foreign Policy | https://t.co/xATBZGnRKn https://t.co/qWV1V528s7 Abusers Blocked', 'url': 'https://t.co/uxjfq9cilE', 'entities': {'url': {'urls': [{'url': 'https://t.co/uxjfq9cilE', 'expanded_url': 'https://www.youtube.com/user/mesanssmile', 'display_url': 'youtube.com/user/mesanssmi…', 'indices': [0, 23]}]}, 'description': {'urls': [{'url': 'https://t.co/xATBZGnRKn', 'expanded_url': 'https://www.sawmsisters.com/author/smitasharma/', 'display_url': 'sawmsisters.com/author/smitash…', 'indices': [51, 74]}, {'url': 'https://t.co/qWV1V528s7', 'expanded_url': 'https://m.facebook.com/SmitaSharmaJournalist/', 'display_url': 'm.facebook.com/SmitaSharmaJou…', 'indices': [75, 98]}]}}, 'protected': False, 'followers_count': 57226, 'friends_count': 402, 'listed_count': 298, 'created_at': 'Thu Sep 17 10:03:58 +0000 2009', 'favourites_count': 18576, 'utc_offset': None, 'time_zone': None, 'geo_enabled': False, 'verified': True, 'statuses_count': 32814, 'lang': None, 'contributors_enabled': False, 'is_translator': False, 'is_translation_enabled': False, 'profile_background_color': 'B2DFDA', 'profile_background_image_url': 'http://abs.twimg.com/images/themes/theme13/bg.gif', 'profile_background_image_url_https': 'https://abs.twimg.com/images/themes/theme13/bg.gif', 'profile_background_tile': False, 'profile_image_url': 'http://pbs.twimg.com/profile_images/1324198094330757120/RtnIEIk3_normal.jpg', 'profile_image_url_https': 'https://pbs.twimg.com/profile_images/1324198094330757120/RtnIEIk3_normal.jpg', 'profile_banner_url': 'https://pbs.twimg.com/profile_banners/74977930/1601217954', 'profile_link_color': '93A644', 'profile_sidebar_border_color': 'FFFFFF', 'profile_sidebar_fill_color': 'FFFFFF', 'profile_text_color': '333333', 'profile_use_background_image': True, 'has_extended_profile': True, 'default_profile': False, 'default_profile_image': False, 'following': False, 'follow_request_sent': False, 'notifications': False, 'translator_type': 'none'}, id=74977930, id_str='74977930', name='Smita Sharma', screen_name='Smita_Sharma', location='New Delhi ', description='Independent Journalist | Focus On Foreign Policy | https://t.co/xATBZGnRKn https://t.co/qWV1V528s7 Abusers Blocked', url='https://t.co/uxjfq9cilE', entities={'url': {'urls': [{'url': 'https://t.co/uxjfq9cilE', 'expanded_url': 'https://www.youtube.com/user/mesanssmile', 'display_url': 'youtube.com/user/mesanssmi…', 'indices': [0, 23]}]}, 'description': {'urls': [{'url': 'https://t.co/xATBZGnRKn', 'expanded_url': 'https://www.sawmsisters.com/author/smitasharma/', 'display_url': 'sawmsisters.com/author/smitash…', 'indices': [51, 74]}, {'url': 'https://t.co/qWV1V528s7', 'expanded_url': 'https://m.facebook.com/SmitaSharmaJournalist/', 'display_url': 'm.facebook.com/SmitaSharmaJou…', 'indices': [75, 98]}]}}, protected=False, followers_count=57226, friends_count=402, listed_count=298, created_at=datetime.datetime(2009, 9, 17, 10, 3, 58), favourites_count=18576, utc_offset=None, time_zone=None, geo_enabled=False, verified=True, statuses_count=32814, lang=None, contributors_enabled=False, is_translator=False, is_translation_enabled=False, profile_background_color='B2DFDA', profile_background_image_url='http://abs.twimg.com/images/themes/theme13/bg.gif', profile_background_image_url_https='https://abs.twimg.com/images/themes/theme13/bg.gif', profile_background_tile=False, profile_image_url='http://pbs.twimg.com/profile_images/1324198094330757120/RtnIEIk3_normal.jpg', profile_image_url_https='https://pbs.twimg.com/profile_images/1324198094330757120/RtnIEIk3_normal.jpg', profile_banner_url='https://pbs.twimg.com/profile_banners/74977930/1601217954', profile_link_color='93A644', profile_sidebar_border_color='FFFFFF', profile_sidebar_fill_color='FFFFFF', profile_text_color='333333', profile_use_background_image=True, has_extended_profile=True, default_profile=False, default_profile_image=False, following=False, follow_request_sent=False, notifications=False, translator_type='none'), geo=None, coordinates=None, place=None, contributors=None, is_quote_status=False, retweet_count=3, favorite_count=15, favorited=False, retweeted=False, possibly_sensitive=False, lang='en') \n",
      "\n",
      "===================================\n",
      "\n",
      "Status(_api=<tweepy.api.API object at 0x00000291CA268B88>, _json={'created_at': 'Tue Nov 24 09:57:47 +0000 2020', 'id': 1331175171646922753, 'id_str': '1331175171646922753', 'full_text': 'India Reports Less Than 40K Daily New Cases Of COVID \\nhttps://t.co/S5303WA0Et @PMOIndia @drharshvardhan @MoHFW_INDIA @WHO', 'truncated': False, 'display_text_range': [0, 121], 'entities': {'hashtags': [], 'symbols': [], 'user_mentions': [{'screen_name': 'PMOIndia', 'name': 'PMO India', 'id': 471741741, 'id_str': '471741741', 'indices': [78, 87]}, {'screen_name': 'drharshvardhan', 'name': 'Dr Harsh Vardhan', 'id': 77732185, 'id_str': '77732185', 'indices': [88, 103]}, {'screen_name': 'MoHFW_INDIA', 'name': 'Ministry of Health', 'id': 2596143056, 'id_str': '2596143056', 'indices': [104, 116]}, {'screen_name': 'WHO', 'name': 'World Health Organization (WHO)', 'id': 14499829, 'id_str': '14499829', 'indices': [117, 121]}], 'urls': [{'url': 'https://t.co/S5303WA0Et', 'expanded_url': 'https://www.thenewsagency.in/india/india-reports-less-than-40k-daily-new-cases-of-covid', 'display_url': 'thenewsagency.in/india/india-re…', 'indices': [54, 77]}]}, 'metadata': {'iso_language_code': 'en', 'result_type': 'recent'}, 'source': '<a href=\"https://mobile.twitter.com\" rel=\"nofollow\">Twitter Web App</a>', 'in_reply_to_status_id': None, 'in_reply_to_status_id_str': None, 'in_reply_to_user_id': None, 'in_reply_to_user_id_str': None, 'in_reply_to_screen_name': None, 'user': {'id': 1097164584178221056, 'id_str': '1097164584178221056', 'name': 'The News Agency', 'screen_name': 'TheNewsAgency1', 'location': 'Lucknow', 'description': 'Everyone Is A Reporter - News Website Of The Common Man', 'url': 'https://t.co/sjprNKj0TM', 'entities': {'url': {'urls': [{'url': 'https://t.co/sjprNKj0TM', 'expanded_url': 'http://www.thenewsagency.in', 'display_url': 'thenewsagency.in', 'indices': [0, 23]}]}, 'description': {'urls': []}}, 'protected': False, 'followers_count': 147, 'friends_count': 263, 'listed_count': 0, 'created_at': 'Sun Feb 17 16:03:15 +0000 2019', 'favourites_count': 4300, 'utc_offset': None, 'time_zone': None, 'geo_enabled': False, 'verified': False, 'statuses_count': 4388, 'lang': None, 'contributors_enabled': False, 'is_translator': False, 'is_translation_enabled': False, 'profile_background_color': 'F5F8FA', 'profile_background_image_url': None, 'profile_background_image_url_https': None, 'profile_background_tile': False, 'profile_image_url': 'http://pbs.twimg.com/profile_images/1289601846365978624/VqnbKmtd_normal.jpg', 'profile_image_url_https': 'https://pbs.twimg.com/profile_images/1289601846365978624/VqnbKmtd_normal.jpg', 'profile_banner_url': 'https://pbs.twimg.com/profile_banners/1097164584178221056/1605981292', 'profile_link_color': '1DA1F2', 'profile_sidebar_border_color': 'C0DEED', 'profile_sidebar_fill_color': 'DDEEF6', 'profile_text_color': '333333', 'profile_use_background_image': True, 'has_extended_profile': False, 'default_profile': True, 'default_profile_image': False, 'following': False, 'follow_request_sent': False, 'notifications': False, 'translator_type': 'none'}, 'geo': None, 'coordinates': None, 'place': None, 'contributors': None, 'is_quote_status': False, 'retweet_count': 0, 'favorite_count': 0, 'favorited': False, 'retweeted': False, 'possibly_sensitive': False, 'lang': 'en'}, created_at=datetime.datetime(2020, 11, 24, 9, 57, 47), id=1331175171646922753, id_str='1331175171646922753', full_text='India Reports Less Than 40K Daily New Cases Of COVID \\nhttps://t.co/S5303WA0Et @PMOIndia @drharshvardhan @MoHFW_INDIA @WHO', truncated=False, display_text_range=[0, 121], entities={'hashtags': [], 'symbols': [], 'user_mentions': [{'screen_name': 'PMOIndia', 'name': 'PMO India', 'id': 471741741, 'id_str': '471741741', 'indices': [78, 87]}, {'screen_name': 'drharshvardhan', 'name': 'Dr Harsh Vardhan', 'id': 77732185, 'id_str': '77732185', 'indices': [88, 103]}, {'screen_name': 'MoHFW_INDIA', 'name': 'Ministry of Health', 'id': 2596143056, 'id_str': '2596143056', 'indices': [104, 116]}, {'screen_name': 'WHO', 'name': 'World Health Organization (WHO)', 'id': 14499829, 'id_str': '14499829', 'indices': [117, 121]}], 'urls': [{'url': 'https://t.co/S5303WA0Et', 'expanded_url': 'https://www.thenewsagency.in/india/india-reports-less-than-40k-daily-new-cases-of-covid', 'display_url': 'thenewsagency.in/india/india-re…', 'indices': [54, 77]}]}, metadata={'iso_language_code': 'en', 'result_type': 'recent'}, source='Twitter Web App', source_url='https://mobile.twitter.com', in_reply_to_status_id=None, in_reply_to_status_id_str=None, in_reply_to_user_id=None, in_reply_to_user_id_str=None, in_reply_to_screen_name=None, author=User(_api=<tweepy.api.API object at 0x00000291CA268B88>, _json={'id': 1097164584178221056, 'id_str': '1097164584178221056', 'name': 'The News Agency', 'screen_name': 'TheNewsAgency1', 'location': 'Lucknow', 'description': 'Everyone Is A Reporter - News Website Of The Common Man', 'url': 'https://t.co/sjprNKj0TM', 'entities': {'url': {'urls': [{'url': 'https://t.co/sjprNKj0TM', 'expanded_url': 'http://www.thenewsagency.in', 'display_url': 'thenewsagency.in', 'indices': [0, 23]}]}, 'description': {'urls': []}}, 'protected': False, 'followers_count': 147, 'friends_count': 263, 'listed_count': 0, 'created_at': 'Sun Feb 17 16:03:15 +0000 2019', 'favourites_count': 4300, 'utc_offset': None, 'time_zone': None, 'geo_enabled': False, 'verified': False, 'statuses_count': 4388, 'lang': None, 'contributors_enabled': False, 'is_translator': False, 'is_translation_enabled': False, 'profile_background_color': 'F5F8FA', 'profile_background_image_url': None, 'profile_background_image_url_https': None, 'profile_background_tile': False, 'profile_image_url': 'http://pbs.twimg.com/profile_images/1289601846365978624/VqnbKmtd_normal.jpg', 'profile_image_url_https': 'https://pbs.twimg.com/profile_images/1289601846365978624/VqnbKmtd_normal.jpg', 'profile_banner_url': 'https://pbs.twimg.com/profile_banners/1097164584178221056/1605981292', 'profile_link_color': '1DA1F2', 'profile_sidebar_border_color': 'C0DEED', 'profile_sidebar_fill_color': 'DDEEF6', 'profile_text_color': '333333', 'profile_use_background_image': True, 'has_extended_profile': False, 'default_profile': True, 'default_profile_image': False, 'following': False, 'follow_request_sent': False, 'notifications': False, 'translator_type': 'none'}, id=1097164584178221056, id_str='1097164584178221056', name='The News Agency', screen_name='TheNewsAgency1', location='Lucknow', description='Everyone Is A Reporter - News Website Of The Common Man', url='https://t.co/sjprNKj0TM', entities={'url': {'urls': [{'url': 'https://t.co/sjprNKj0TM', 'expanded_url': 'http://www.thenewsagency.in', 'display_url': 'thenewsagency.in', 'indices': [0, 23]}]}, 'description': {'urls': []}}, protected=False, followers_count=147, friends_count=263, listed_count=0, created_at=datetime.datetime(2019, 2, 17, 16, 3, 15), favourites_count=4300, utc_offset=None, time_zone=None, geo_enabled=False, verified=False, statuses_count=4388, lang=None, contributors_enabled=False, is_translator=False, is_translation_enabled=False, profile_background_color='F5F8FA', profile_background_image_url=None, profile_background_image_url_https=None, profile_background_tile=False, profile_image_url='http://pbs.twimg.com/profile_images/1289601846365978624/VqnbKmtd_normal.jpg', profile_image_url_https='https://pbs.twimg.com/profile_images/1289601846365978624/VqnbKmtd_normal.jpg', profile_banner_url='https://pbs.twimg.com/profile_banners/1097164584178221056/1605981292', profile_link_color='1DA1F2', profile_sidebar_border_color='C0DEED', profile_sidebar_fill_color='DDEEF6', profile_text_color='333333', profile_use_background_image=True, has_extended_profile=False, default_profile=True, default_profile_image=False, following=False, follow_request_sent=False, notifications=False, translator_type='none'), user=User(_api=<tweepy.api.API object at 0x00000291CA268B88>, _json={'id': 1097164584178221056, 'id_str': '1097164584178221056', 'name': 'The News Agency', 'screen_name': 'TheNewsAgency1', 'location': 'Lucknow', 'description': 'Everyone Is A Reporter - News Website Of The Common Man', 'url': 'https://t.co/sjprNKj0TM', 'entities': {'url': {'urls': [{'url': 'https://t.co/sjprNKj0TM', 'expanded_url': 'http://www.thenewsagency.in', 'display_url': 'thenewsagency.in', 'indices': [0, 23]}]}, 'description': {'urls': []}}, 'protected': False, 'followers_count': 147, 'friends_count': 263, 'listed_count': 0, 'created_at': 'Sun Feb 17 16:03:15 +0000 2019', 'favourites_count': 4300, 'utc_offset': None, 'time_zone': None, 'geo_enabled': False, 'verified': False, 'statuses_count': 4388, 'lang': None, 'contributors_enabled': False, 'is_translator': False, 'is_translation_enabled': False, 'profile_background_color': 'F5F8FA', 'profile_background_image_url': None, 'profile_background_image_url_https': None, 'profile_background_tile': False, 'profile_image_url': 'http://pbs.twimg.com/profile_images/1289601846365978624/VqnbKmtd_normal.jpg', 'profile_image_url_https': 'https://pbs.twimg.com/profile_images/1289601846365978624/VqnbKmtd_normal.jpg', 'profile_banner_url': 'https://pbs.twimg.com/profile_banners/1097164584178221056/1605981292', 'profile_link_color': '1DA1F2', 'profile_sidebar_border_color': 'C0DEED', 'profile_sidebar_fill_color': 'DDEEF6', 'profile_text_color': '333333', 'profile_use_background_image': True, 'has_extended_profile': False, 'default_profile': True, 'default_profile_image': False, 'following': False, 'follow_request_sent': False, 'notifications': False, 'translator_type': 'none'}, id=1097164584178221056, id_str='1097164584178221056', name='The News Agency', screen_name='TheNewsAgency1', location='Lucknow', description='Everyone Is A Reporter - News Website Of The Common Man', url='https://t.co/sjprNKj0TM', entities={'url': {'urls': [{'url': 'https://t.co/sjprNKj0TM', 'expanded_url': 'http://www.thenewsagency.in', 'display_url': 'thenewsagency.in', 'indices': [0, 23]}]}, 'description': {'urls': []}}, protected=False, followers_count=147, friends_count=263, listed_count=0, created_at=datetime.datetime(2019, 2, 17, 16, 3, 15), favourites_count=4300, utc_offset=None, time_zone=None, geo_enabled=False, verified=False, statuses_count=4388, lang=None, contributors_enabled=False, is_translator=False, is_translation_enabled=False, profile_background_color='F5F8FA', profile_background_image_url=None, profile_background_image_url_https=None, profile_background_tile=False, profile_image_url='http://pbs.twimg.com/profile_images/1289601846365978624/VqnbKmtd_normal.jpg', profile_image_url_https='https://pbs.twimg.com/profile_images/1289601846365978624/VqnbKmtd_normal.jpg', profile_banner_url='https://pbs.twimg.com/profile_banners/1097164584178221056/1605981292', profile_link_color='1DA1F2', profile_sidebar_border_color='C0DEED', profile_sidebar_fill_color='DDEEF6', profile_text_color='333333', profile_use_background_image=True, has_extended_profile=False, default_profile=True, default_profile_image=False, following=False, follow_request_sent=False, notifications=False, translator_type='none'), geo=None, coordinates=None, place=None, contributors=None, is_quote_status=False, retweet_count=0, favorite_count=0, favorited=False, retweeted=False, possibly_sensitive=False, lang='en') \n",
      "\n",
      "===================================\n",
      "\n",
      "Status(_api=<tweepy.api.API object at 0x00000291CA268B88>, _json={'created_at': 'Tue Nov 24 09:50:29 +0000 2020', 'id': 1331173335317831683, 'id_str': '1331173335317831683', 'full_text': 'Covid-19 caseload in India climbs to 91.77 lakh, 37,975 new cases reported https://t.co/3SZ64RK4Lf Covid-19 caseload in India climbs to 91.77 lakh, 37,975 new cases reported The total coronavirus cases mounted to 91,77,840 and the death toll climbed to … https://t.co/elB7a1ht9O https://t.co/Mc7ZPwjQ1Z', 'truncated': False, 'display_text_range': [0, 278], 'entities': {'hashtags': [], 'symbols': [], 'user_mentions': [], 'urls': [{'url': 'https://t.co/3SZ64RK4Lf', 'expanded_url': 'http://healthcaretipsblog2.blogspot.com/2020/11/covid-19-caseload-in-india-climbs-to_24.html', 'display_url': 'healthcaretipsblog2.blogspot.com/2020/11/covid-…', 'indices': [75, 98]}, {'url': 'https://t.co/elB7a1ht9O', 'expanded_url': 'https://ift.tt/eA8V8J', 'display_url': 'ift.tt/eA8V8J', 'indices': [255, 278]}], 'media': [{'id': 1331173334420234249, 'id_str': '1331173334420234249', 'indices': [279, 302], 'media_url': 'http://pbs.twimg.com/media/EnlHGESXIAkrlL1.png', 'media_url_https': 'https://pbs.twimg.com/media/EnlHGESXIAkrlL1.png', 'url': 'https://t.co/Mc7ZPwjQ1Z', 'display_url': 'pic.twitter.com/Mc7ZPwjQ1Z', 'expanded_url': 'https://twitter.com/HealthT21793947/status/1331173335317831683/photo/1', 'type': 'photo', 'sizes': {'medium': {'w': 800, 'h': 494, 'resize': 'fit'}, 'large': {'w': 800, 'h': 494, 'resize': 'fit'}, 'thumb': {'w': 150, 'h': 150, 'resize': 'crop'}, 'small': {'w': 680, 'h': 420, 'resize': 'fit'}}}]}, 'extended_entities': {'media': [{'id': 1331173334420234249, 'id_str': '1331173334420234249', 'indices': [279, 302], 'media_url': 'http://pbs.twimg.com/media/EnlHGESXIAkrlL1.png', 'media_url_https': 'https://pbs.twimg.com/media/EnlHGESXIAkrlL1.png', 'url': 'https://t.co/Mc7ZPwjQ1Z', 'display_url': 'pic.twitter.com/Mc7ZPwjQ1Z', 'expanded_url': 'https://twitter.com/HealthT21793947/status/1331173335317831683/photo/1', 'type': 'photo', 'sizes': {'medium': {'w': 800, 'h': 494, 'resize': 'fit'}, 'large': {'w': 800, 'h': 494, 'resize': 'fit'}, 'thumb': {'w': 150, 'h': 150, 'resize': 'crop'}, 'small': {'w': 680, 'h': 420, 'resize': 'fit'}}}]}, 'metadata': {'iso_language_code': 'en', 'result_type': 'recent'}, 'source': '<a href=\"https://ifttt.com\" rel=\"nofollow\">IFTTT</a>', 'in_reply_to_status_id': None, 'in_reply_to_status_id_str': None, 'in_reply_to_user_id': None, 'in_reply_to_user_id_str': None, 'in_reply_to_screen_name': None, 'user': {'id': 1147707158709981184, 'id_str': '1147707158709981184', 'name': 'Health Tips', 'screen_name': 'HealthT21793947', 'location': '', 'description': '', 'url': None, 'entities': {'description': {'urls': []}}, 'protected': False, 'followers_count': 43, 'friends_count': 109, 'listed_count': 0, 'created_at': 'Sun Jul 07 03:21:24 +0000 2019', 'favourites_count': 40, 'utc_offset': None, 'time_zone': None, 'geo_enabled': False, 'verified': False, 'statuses_count': 10131, 'lang': None, 'contributors_enabled': False, 'is_translator': False, 'is_translation_enabled': False, 'profile_background_color': 'F5F8FA', 'profile_background_image_url': None, 'profile_background_image_url_https': None, 'profile_background_tile': False, 'profile_image_url': 'http://abs.twimg.com/sticky/default_profile_images/default_profile_normal.png', 'profile_image_url_https': 'https://abs.twimg.com/sticky/default_profile_images/default_profile_normal.png', 'profile_link_color': '1DA1F2', 'profile_sidebar_border_color': 'C0DEED', 'profile_sidebar_fill_color': 'DDEEF6', 'profile_text_color': '333333', 'profile_use_background_image': True, 'has_extended_profile': False, 'default_profile': True, 'default_profile_image': True, 'following': False, 'follow_request_sent': False, 'notifications': False, 'translator_type': 'none'}, 'geo': None, 'coordinates': None, 'place': None, 'contributors': None, 'is_quote_status': False, 'retweet_count': 0, 'favorite_count': 0, 'favorited': False, 'retweeted': False, 'possibly_sensitive': False, 'lang': 'en'}, created_at=datetime.datetime(2020, 11, 24, 9, 50, 29), id=1331173335317831683, id_str='1331173335317831683', full_text='Covid-19 caseload in India climbs to 91.77 lakh, 37,975 new cases reported https://t.co/3SZ64RK4Lf Covid-19 caseload in India climbs to 91.77 lakh, 37,975 new cases reported The total coronavirus cases mounted to 91,77,840 and the death toll climbed to … https://t.co/elB7a1ht9O https://t.co/Mc7ZPwjQ1Z', truncated=False, display_text_range=[0, 278], entities={'hashtags': [], 'symbols': [], 'user_mentions': [], 'urls': [{'url': 'https://t.co/3SZ64RK4Lf', 'expanded_url': 'http://healthcaretipsblog2.blogspot.com/2020/11/covid-19-caseload-in-india-climbs-to_24.html', 'display_url': 'healthcaretipsblog2.blogspot.com/2020/11/covid-…', 'indices': [75, 98]}, {'url': 'https://t.co/elB7a1ht9O', 'expanded_url': 'https://ift.tt/eA8V8J', 'display_url': 'ift.tt/eA8V8J', 'indices': [255, 278]}], 'media': [{'id': 1331173334420234249, 'id_str': '1331173334420234249', 'indices': [279, 302], 'media_url': 'http://pbs.twimg.com/media/EnlHGESXIAkrlL1.png', 'media_url_https': 'https://pbs.twimg.com/media/EnlHGESXIAkrlL1.png', 'url': 'https://t.co/Mc7ZPwjQ1Z', 'display_url': 'pic.twitter.com/Mc7ZPwjQ1Z', 'expanded_url': 'https://twitter.com/HealthT21793947/status/1331173335317831683/photo/1', 'type': 'photo', 'sizes': {'medium': {'w': 800, 'h': 494, 'resize': 'fit'}, 'large': {'w': 800, 'h': 494, 'resize': 'fit'}, 'thumb': {'w': 150, 'h': 150, 'resize': 'crop'}, 'small': {'w': 680, 'h': 420, 'resize': 'fit'}}}]}, extended_entities={'media': [{'id': 1331173334420234249, 'id_str': '1331173334420234249', 'indices': [279, 302], 'media_url': 'http://pbs.twimg.com/media/EnlHGESXIAkrlL1.png', 'media_url_https': 'https://pbs.twimg.com/media/EnlHGESXIAkrlL1.png', 'url': 'https://t.co/Mc7ZPwjQ1Z', 'display_url': 'pic.twitter.com/Mc7ZPwjQ1Z', 'expanded_url': 'https://twitter.com/HealthT21793947/status/1331173335317831683/photo/1', 'type': 'photo', 'sizes': {'medium': {'w': 800, 'h': 494, 'resize': 'fit'}, 'large': {'w': 800, 'h': 494, 'resize': 'fit'}, 'thumb': {'w': 150, 'h': 150, 'resize': 'crop'}, 'small': {'w': 680, 'h': 420, 'resize': 'fit'}}}]}, metadata={'iso_language_code': 'en', 'result_type': 'recent'}, source='IFTTT', source_url='https://ifttt.com', in_reply_to_status_id=None, in_reply_to_status_id_str=None, in_reply_to_user_id=None, in_reply_to_user_id_str=None, in_reply_to_screen_name=None, author=User(_api=<tweepy.api.API object at 0x00000291CA268B88>, _json={'id': 1147707158709981184, 'id_str': '1147707158709981184', 'name': 'Health Tips', 'screen_name': 'HealthT21793947', 'location': '', 'description': '', 'url': None, 'entities': {'description': {'urls': []}}, 'protected': False, 'followers_count': 43, 'friends_count': 109, 'listed_count': 0, 'created_at': 'Sun Jul 07 03:21:24 +0000 2019', 'favourites_count': 40, 'utc_offset': None, 'time_zone': None, 'geo_enabled': False, 'verified': False, 'statuses_count': 10131, 'lang': None, 'contributors_enabled': False, 'is_translator': False, 'is_translation_enabled': False, 'profile_background_color': 'F5F8FA', 'profile_background_image_url': None, 'profile_background_image_url_https': None, 'profile_background_tile': False, 'profile_image_url': 'http://abs.twimg.com/sticky/default_profile_images/default_profile_normal.png', 'profile_image_url_https': 'https://abs.twimg.com/sticky/default_profile_images/default_profile_normal.png', 'profile_link_color': '1DA1F2', 'profile_sidebar_border_color': 'C0DEED', 'profile_sidebar_fill_color': 'DDEEF6', 'profile_text_color': '333333', 'profile_use_background_image': True, 'has_extended_profile': False, 'default_profile': True, 'default_profile_image': True, 'following': False, 'follow_request_sent': False, 'notifications': False, 'translator_type': 'none'}, id=1147707158709981184, id_str='1147707158709981184', name='Health Tips', screen_name='HealthT21793947', location='', description='', url=None, entities={'description': {'urls': []}}, protected=False, followers_count=43, friends_count=109, listed_count=0, created_at=datetime.datetime(2019, 7, 7, 3, 21, 24), favourites_count=40, utc_offset=None, time_zone=None, geo_enabled=False, verified=False, statuses_count=10131, lang=None, contributors_enabled=False, is_translator=False, is_translation_enabled=False, profile_background_color='F5F8FA', profile_background_image_url=None, profile_background_image_url_https=None, profile_background_tile=False, profile_image_url='http://abs.twimg.com/sticky/default_profile_images/default_profile_normal.png', profile_image_url_https='https://abs.twimg.com/sticky/default_profile_images/default_profile_normal.png', profile_link_color='1DA1F2', profile_sidebar_border_color='C0DEED', profile_sidebar_fill_color='DDEEF6', profile_text_color='333333', profile_use_background_image=True, has_extended_profile=False, default_profile=True, default_profile_image=True, following=False, follow_request_sent=False, notifications=False, translator_type='none'), user=User(_api=<tweepy.api.API object at 0x00000291CA268B88>, _json={'id': 1147707158709981184, 'id_str': '1147707158709981184', 'name': 'Health Tips', 'screen_name': 'HealthT21793947', 'location': '', 'description': '', 'url': None, 'entities': {'description': {'urls': []}}, 'protected': False, 'followers_count': 43, 'friends_count': 109, 'listed_count': 0, 'created_at': 'Sun Jul 07 03:21:24 +0000 2019', 'favourites_count': 40, 'utc_offset': None, 'time_zone': None, 'geo_enabled': False, 'verified': False, 'statuses_count': 10131, 'lang': None, 'contributors_enabled': False, 'is_translator': False, 'is_translation_enabled': False, 'profile_background_color': 'F5F8FA', 'profile_background_image_url': None, 'profile_background_image_url_https': None, 'profile_background_tile': False, 'profile_image_url': 'http://abs.twimg.com/sticky/default_profile_images/default_profile_normal.png', 'profile_image_url_https': 'https://abs.twimg.com/sticky/default_profile_images/default_profile_normal.png', 'profile_link_color': '1DA1F2', 'profile_sidebar_border_color': 'C0DEED', 'profile_sidebar_fill_color': 'DDEEF6', 'profile_text_color': '333333', 'profile_use_background_image': True, 'has_extended_profile': False, 'default_profile': True, 'default_profile_image': True, 'following': False, 'follow_request_sent': False, 'notifications': False, 'translator_type': 'none'}, id=1147707158709981184, id_str='1147707158709981184', name='Health Tips', screen_name='HealthT21793947', location='', description='', url=None, entities={'description': {'urls': []}}, protected=False, followers_count=43, friends_count=109, listed_count=0, created_at=datetime.datetime(2019, 7, 7, 3, 21, 24), favourites_count=40, utc_offset=None, time_zone=None, geo_enabled=False, verified=False, statuses_count=10131, lang=None, contributors_enabled=False, is_translator=False, is_translation_enabled=False, profile_background_color='F5F8FA', profile_background_image_url=None, profile_background_image_url_https=None, profile_background_tile=False, profile_image_url='http://abs.twimg.com/sticky/default_profile_images/default_profile_normal.png', profile_image_url_https='https://abs.twimg.com/sticky/default_profile_images/default_profile_normal.png', profile_link_color='1DA1F2', profile_sidebar_border_color='C0DEED', profile_sidebar_fill_color='DDEEF6', profile_text_color='333333', profile_use_background_image=True, has_extended_profile=False, default_profile=True, default_profile_image=True, following=False, follow_request_sent=False, notifications=False, translator_type='none'), geo=None, coordinates=None, place=None, contributors=None, is_quote_status=False, retweet_count=0, favorite_count=0, favorited=False, retweeted=False, possibly_sensitive=False, lang='en') \n",
      "\n",
      "===================================\n",
      "\n",
      "Status(_api=<tweepy.api.API object at 0x00000291CA268B88>, _json={'created_at': 'Tue Nov 24 09:46:37 +0000 2020', 'id': 1331172360230105089, 'id_str': '1331172360230105089', 'full_text': '75.71% of the new recovered Covid cases are observed to be concentrated in 10 States/UTs. #Delhi has reported the maximum number of single-day recoveries with 7,216 newly recovered cases. 5,425  people recovered in Kerala followed by 3,729 in #Maharashtra: @MoHFW_INDIA https://t.co/GnVbmBE6CE', 'truncated': False, 'display_text_range': [0, 269], 'entities': {'hashtags': [{'text': 'Delhi', 'indices': [90, 96]}, {'text': 'Maharashtra', 'indices': [243, 255]}], 'symbols': [], 'user_mentions': [{'screen_name': 'MoHFW_INDIA', 'name': 'Ministry of Health', 'id': 2596143056, 'id_str': '2596143056', 'indices': [257, 269]}], 'urls': [], 'media': [{'id': 1331172282102812678, 'id_str': '1331172282102812678', 'indices': [270, 293], 'media_url': 'http://pbs.twimg.com/media/EnlGI0GVkAYsm-3.jpg', 'media_url_https': 'https://pbs.twimg.com/media/EnlGI0GVkAYsm-3.jpg', 'url': 'https://t.co/GnVbmBE6CE', 'display_url': 'pic.twitter.com/GnVbmBE6CE', 'expanded_url': 'https://twitter.com/nd24_news/status/1331172360230105089/photo/1', 'type': 'photo', 'sizes': {'thumb': {'w': 150, 'h': 150, 'resize': 'crop'}, 'small': {'w': 463, 'h': 261, 'resize': 'fit'}, 'large': {'w': 463, 'h': 261, 'resize': 'fit'}, 'medium': {'w': 463, 'h': 261, 'resize': 'fit'}}}]}, 'extended_entities': {'media': [{'id': 1331172282102812678, 'id_str': '1331172282102812678', 'indices': [270, 293], 'media_url': 'http://pbs.twimg.com/media/EnlGI0GVkAYsm-3.jpg', 'media_url_https': 'https://pbs.twimg.com/media/EnlGI0GVkAYsm-3.jpg', 'url': 'https://t.co/GnVbmBE6CE', 'display_url': 'pic.twitter.com/GnVbmBE6CE', 'expanded_url': 'https://twitter.com/nd24_news/status/1331172360230105089/photo/1', 'type': 'photo', 'sizes': {'thumb': {'w': 150, 'h': 150, 'resize': 'crop'}, 'small': {'w': 463, 'h': 261, 'resize': 'fit'}, 'large': {'w': 463, 'h': 261, 'resize': 'fit'}, 'medium': {'w': 463, 'h': 261, 'resize': 'fit'}}}]}, 'metadata': {'iso_language_code': 'en', 'result_type': 'recent'}, 'source': '<a href=\"https://mobile.twitter.com\" rel=\"nofollow\">Twitter Web App</a>', 'in_reply_to_status_id': None, 'in_reply_to_status_id_str': None, 'in_reply_to_user_id': None, 'in_reply_to_user_id_str': None, 'in_reply_to_screen_name': None, 'user': {'id': 1239126363124064256, 'id_str': '1239126363124064256', 'name': 'News Daily 24', 'screen_name': 'nd24_news', 'location': 'Guwahati, Assam', 'description': 'ND24 is a bilingual news web portal headquartered in Guwahati, Assam. Follow and stay tuned for all the latest happenings and breaking news updates', 'url': 'https://t.co/S4hjYfGmdZ', 'entities': {'url': {'urls': [{'url': 'https://t.co/S4hjYfGmdZ', 'expanded_url': 'https://www.facebook.com/nd24assam/', 'display_url': 'facebook.com/nd24assam/', 'indices': [0, 23]}]}, 'description': {'urls': []}}, 'protected': False, 'followers_count': 587, 'friends_count': 178, 'listed_count': 0, 'created_at': 'Sun Mar 15 09:50:14 +0000 2020', 'favourites_count': 4, 'utc_offset': None, 'time_zone': None, 'geo_enabled': True, 'verified': False, 'statuses_count': 6462, 'lang': None, 'contributors_enabled': False, 'is_translator': False, 'is_translation_enabled': False, 'profile_background_color': 'F5F8FA', 'profile_background_image_url': None, 'profile_background_image_url_https': None, 'profile_background_tile': False, 'profile_image_url': 'http://pbs.twimg.com/profile_images/1260840726029463552/lkAlHqIN_normal.jpg', 'profile_image_url_https': 'https://pbs.twimg.com/profile_images/1260840726029463552/lkAlHqIN_normal.jpg', 'profile_banner_url': 'https://pbs.twimg.com/profile_banners/1239126363124064256/1589876786', 'profile_link_color': '1DA1F2', 'profile_sidebar_border_color': 'C0DEED', 'profile_sidebar_fill_color': 'DDEEF6', 'profile_text_color': '333333', 'profile_use_background_image': True, 'has_extended_profile': False, 'default_profile': True, 'default_profile_image': False, 'following': False, 'follow_request_sent': False, 'notifications': False, 'translator_type': 'none'}, 'geo': None, 'coordinates': None, 'place': None, 'contributors': None, 'is_quote_status': False, 'retweet_count': 0, 'favorite_count': 0, 'favorited': False, 'retweeted': False, 'possibly_sensitive': False, 'lang': 'en'}, created_at=datetime.datetime(2020, 11, 24, 9, 46, 37), id=1331172360230105089, id_str='1331172360230105089', full_text='75.71% of the new recovered Covid cases are observed to be concentrated in 10 States/UTs. #Delhi has reported the maximum number of single-day recoveries with 7,216 newly recovered cases. 5,425  people recovered in Kerala followed by 3,729 in #Maharashtra: @MoHFW_INDIA https://t.co/GnVbmBE6CE', truncated=False, display_text_range=[0, 269], entities={'hashtags': [{'text': 'Delhi', 'indices': [90, 96]}, {'text': 'Maharashtra', 'indices': [243, 255]}], 'symbols': [], 'user_mentions': [{'screen_name': 'MoHFW_INDIA', 'name': 'Ministry of Health', 'id': 2596143056, 'id_str': '2596143056', 'indices': [257, 269]}], 'urls': [], 'media': [{'id': 1331172282102812678, 'id_str': '1331172282102812678', 'indices': [270, 293], 'media_url': 'http://pbs.twimg.com/media/EnlGI0GVkAYsm-3.jpg', 'media_url_https': 'https://pbs.twimg.com/media/EnlGI0GVkAYsm-3.jpg', 'url': 'https://t.co/GnVbmBE6CE', 'display_url': 'pic.twitter.com/GnVbmBE6CE', 'expanded_url': 'https://twitter.com/nd24_news/status/1331172360230105089/photo/1', 'type': 'photo', 'sizes': {'thumb': {'w': 150, 'h': 150, 'resize': 'crop'}, 'small': {'w': 463, 'h': 261, 'resize': 'fit'}, 'large': {'w': 463, 'h': 261, 'resize': 'fit'}, 'medium': {'w': 463, 'h': 261, 'resize': 'fit'}}}]}, extended_entities={'media': [{'id': 1331172282102812678, 'id_str': '1331172282102812678', 'indices': [270, 293], 'media_url': 'http://pbs.twimg.com/media/EnlGI0GVkAYsm-3.jpg', 'media_url_https': 'https://pbs.twimg.com/media/EnlGI0GVkAYsm-3.jpg', 'url': 'https://t.co/GnVbmBE6CE', 'display_url': 'pic.twitter.com/GnVbmBE6CE', 'expanded_url': 'https://twitter.com/nd24_news/status/1331172360230105089/photo/1', 'type': 'photo', 'sizes': {'thumb': {'w': 150, 'h': 150, 'resize': 'crop'}, 'small': {'w': 463, 'h': 261, 'resize': 'fit'}, 'large': {'w': 463, 'h': 261, 'resize': 'fit'}, 'medium': {'w': 463, 'h': 261, 'resize': 'fit'}}}]}, metadata={'iso_language_code': 'en', 'result_type': 'recent'}, source='Twitter Web App', source_url='https://mobile.twitter.com', in_reply_to_status_id=None, in_reply_to_status_id_str=None, in_reply_to_user_id=None, in_reply_to_user_id_str=None, in_reply_to_screen_name=None, author=User(_api=<tweepy.api.API object at 0x00000291CA268B88>, _json={'id': 1239126363124064256, 'id_str': '1239126363124064256', 'name': 'News Daily 24', 'screen_name': 'nd24_news', 'location': 'Guwahati, Assam', 'description': 'ND24 is a bilingual news web portal headquartered in Guwahati, Assam. Follow and stay tuned for all the latest happenings and breaking news updates', 'url': 'https://t.co/S4hjYfGmdZ', 'entities': {'url': {'urls': [{'url': 'https://t.co/S4hjYfGmdZ', 'expanded_url': 'https://www.facebook.com/nd24assam/', 'display_url': 'facebook.com/nd24assam/', 'indices': [0, 23]}]}, 'description': {'urls': []}}, 'protected': False, 'followers_count': 587, 'friends_count': 178, 'listed_count': 0, 'created_at': 'Sun Mar 15 09:50:14 +0000 2020', 'favourites_count': 4, 'utc_offset': None, 'time_zone': None, 'geo_enabled': True, 'verified': False, 'statuses_count': 6462, 'lang': None, 'contributors_enabled': False, 'is_translator': False, 'is_translation_enabled': False, 'profile_background_color': 'F5F8FA', 'profile_background_image_url': None, 'profile_background_image_url_https': None, 'profile_background_tile': False, 'profile_image_url': 'http://pbs.twimg.com/profile_images/1260840726029463552/lkAlHqIN_normal.jpg', 'profile_image_url_https': 'https://pbs.twimg.com/profile_images/1260840726029463552/lkAlHqIN_normal.jpg', 'profile_banner_url': 'https://pbs.twimg.com/profile_banners/1239126363124064256/1589876786', 'profile_link_color': '1DA1F2', 'profile_sidebar_border_color': 'C0DEED', 'profile_sidebar_fill_color': 'DDEEF6', 'profile_text_color': '333333', 'profile_use_background_image': True, 'has_extended_profile': False, 'default_profile': True, 'default_profile_image': False, 'following': False, 'follow_request_sent': False, 'notifications': False, 'translator_type': 'none'}, id=1239126363124064256, id_str='1239126363124064256', name='News Daily 24', screen_name='nd24_news', location='Guwahati, Assam', description='ND24 is a bilingual news web portal headquartered in Guwahati, Assam. Follow and stay tuned for all the latest happenings and breaking news updates', url='https://t.co/S4hjYfGmdZ', entities={'url': {'urls': [{'url': 'https://t.co/S4hjYfGmdZ', 'expanded_url': 'https://www.facebook.com/nd24assam/', 'display_url': 'facebook.com/nd24assam/', 'indices': [0, 23]}]}, 'description': {'urls': []}}, protected=False, followers_count=587, friends_count=178, listed_count=0, created_at=datetime.datetime(2020, 3, 15, 9, 50, 14), favourites_count=4, utc_offset=None, time_zone=None, geo_enabled=True, verified=False, statuses_count=6462, lang=None, contributors_enabled=False, is_translator=False, is_translation_enabled=False, profile_background_color='F5F8FA', profile_background_image_url=None, profile_background_image_url_https=None, profile_background_tile=False, profile_image_url='http://pbs.twimg.com/profile_images/1260840726029463552/lkAlHqIN_normal.jpg', profile_image_url_https='https://pbs.twimg.com/profile_images/1260840726029463552/lkAlHqIN_normal.jpg', profile_banner_url='https://pbs.twimg.com/profile_banners/1239126363124064256/1589876786', profile_link_color='1DA1F2', profile_sidebar_border_color='C0DEED', profile_sidebar_fill_color='DDEEF6', profile_text_color='333333', profile_use_background_image=True, has_extended_profile=False, default_profile=True, default_profile_image=False, following=False, follow_request_sent=False, notifications=False, translator_type='none'), user=User(_api=<tweepy.api.API object at 0x00000291CA268B88>, _json={'id': 1239126363124064256, 'id_str': '1239126363124064256', 'name': 'News Daily 24', 'screen_name': 'nd24_news', 'location': 'Guwahati, Assam', 'description': 'ND24 is a bilingual news web portal headquartered in Guwahati, Assam. Follow and stay tuned for all the latest happenings and breaking news updates', 'url': 'https://t.co/S4hjYfGmdZ', 'entities': {'url': {'urls': [{'url': 'https://t.co/S4hjYfGmdZ', 'expanded_url': 'https://www.facebook.com/nd24assam/', 'display_url': 'facebook.com/nd24assam/', 'indices': [0, 23]}]}, 'description': {'urls': []}}, 'protected': False, 'followers_count': 587, 'friends_count': 178, 'listed_count': 0, 'created_at': 'Sun Mar 15 09:50:14 +0000 2020', 'favourites_count': 4, 'utc_offset': None, 'time_zone': None, 'geo_enabled': True, 'verified': False, 'statuses_count': 6462, 'lang': None, 'contributors_enabled': False, 'is_translator': False, 'is_translation_enabled': False, 'profile_background_color': 'F5F8FA', 'profile_background_image_url': None, 'profile_background_image_url_https': None, 'profile_background_tile': False, 'profile_image_url': 'http://pbs.twimg.com/profile_images/1260840726029463552/lkAlHqIN_normal.jpg', 'profile_image_url_https': 'https://pbs.twimg.com/profile_images/1260840726029463552/lkAlHqIN_normal.jpg', 'profile_banner_url': 'https://pbs.twimg.com/profile_banners/1239126363124064256/1589876786', 'profile_link_color': '1DA1F2', 'profile_sidebar_border_color': 'C0DEED', 'profile_sidebar_fill_color': 'DDEEF6', 'profile_text_color': '333333', 'profile_use_background_image': True, 'has_extended_profile': False, 'default_profile': True, 'default_profile_image': False, 'following': False, 'follow_request_sent': False, 'notifications': False, 'translator_type': 'none'}, id=1239126363124064256, id_str='1239126363124064256', name='News Daily 24', screen_name='nd24_news', location='Guwahati, Assam', description='ND24 is a bilingual news web portal headquartered in Guwahati, Assam. Follow and stay tuned for all the latest happenings and breaking news updates', url='https://t.co/S4hjYfGmdZ', entities={'url': {'urls': [{'url': 'https://t.co/S4hjYfGmdZ', 'expanded_url': 'https://www.facebook.com/nd24assam/', 'display_url': 'facebook.com/nd24assam/', 'indices': [0, 23]}]}, 'description': {'urls': []}}, protected=False, followers_count=587, friends_count=178, listed_count=0, created_at=datetime.datetime(2020, 3, 15, 9, 50, 14), favourites_count=4, utc_offset=None, time_zone=None, geo_enabled=True, verified=False, statuses_count=6462, lang=None, contributors_enabled=False, is_translator=False, is_translation_enabled=False, profile_background_color='F5F8FA', profile_background_image_url=None, profile_background_image_url_https=None, profile_background_tile=False, profile_image_url='http://pbs.twimg.com/profile_images/1260840726029463552/lkAlHqIN_normal.jpg', profile_image_url_https='https://pbs.twimg.com/profile_images/1260840726029463552/lkAlHqIN_normal.jpg', profile_banner_url='https://pbs.twimg.com/profile_banners/1239126363124064256/1589876786', profile_link_color='1DA1F2', profile_sidebar_border_color='C0DEED', profile_sidebar_fill_color='DDEEF6', profile_text_color='333333', profile_use_background_image=True, has_extended_profile=False, default_profile=True, default_profile_image=False, following=False, follow_request_sent=False, notifications=False, translator_type='none'), geo=None, coordinates=None, place=None, contributors=None, is_quote_status=False, retweet_count=0, favorite_count=0, favorited=False, retweeted=False, possibly_sensitive=False, lang='en') \n",
      "\n",
      "===================================\n",
      "\n",
      "Status(_api=<tweepy.api.API object at 0x00000291CA268B88>, _json={'created_at': 'Tue Nov 24 09:37:00 +0000 2020', 'id': 1331169939630256129, 'id_str': '1331169939630256129', 'full_text': 'The contrasting impact across South Asia has been striking despite sharing common traits of young populations spread across densely packed cities and expansive hinterlands \\n\\n#CoronavirusPandemic #COVID__19 #Pakistan \\nhttps://t.co/XubwAzfgJb', 'truncated': False, 'display_text_range': [0, 240], 'entities': {'hashtags': [{'text': 'CoronavirusPandemic', 'indices': [174, 194]}, {'text': 'COVID__19', 'indices': [195, 205]}, {'text': 'Pakistan', 'indices': [206, 215]}], 'symbols': [], 'user_mentions': [], 'urls': [{'url': 'https://t.co/XubwAzfgJb', 'expanded_url': 'https://mybs.in/2YRttg7', 'display_url': 'mybs.in/2YRttg7', 'indices': [217, 240]}]}, 'metadata': {'iso_language_code': 'en', 'result_type': 'recent'}, 'source': '<a href=\"https://about.twitter.com/products/tweetdeck\" rel=\"nofollow\">TweetDeck</a>', 'in_reply_to_status_id': None, 'in_reply_to_status_id_str': None, 'in_reply_to_user_id': None, 'in_reply_to_user_id_str': None, 'in_reply_to_screen_name': None, 'user': {'id': 43855487, 'id_str': '43855487', 'name': 'Business Standard', 'screen_name': 'bsindia', 'location': 'India', 'description': \"Latest updates #news #LIVE coverage on #economy #companies #markets #politics and #technology from India's leading business daily\\nhttps://t.co/VVl6HGuvvc\", 'url': 'https://t.co/bXS4j8yx1g', 'entities': {'url': {'urls': [{'url': 'https://t.co/bXS4j8yx1g', 'expanded_url': 'http://www.business-standard.com', 'display_url': 'business-standard.com', 'indices': [0, 23]}]}, 'description': {'urls': [{'url': 'https://t.co/VVl6HGuvvc', 'expanded_url': 'http://t.me/bsindiaofficial', 'display_url': 't.me/bsindiaofficial', 'indices': [130, 153]}]}}, 'protected': False, 'followers_count': 2023331, 'friends_count': 377, 'listed_count': 3095, 'created_at': 'Mon Jun 01 08:52:08 +0000 2009', 'favourites_count': 186, 'utc_offset': None, 'time_zone': None, 'geo_enabled': True, 'verified': True, 'statuses_count': 311883, 'lang': None, 'contributors_enabled': False, 'is_translator': False, 'is_translation_enabled': False, 'profile_background_color': '9AE4E8', 'profile_background_image_url': 'http://abs.twimg.com/images/themes/theme1/bg.png', 'profile_background_image_url_https': 'https://abs.twimg.com/images/themes/theme1/bg.png', 'profile_background_tile': False, 'profile_image_url': 'http://pbs.twimg.com/profile_images/1194080296821559296/4GUNRuCM_normal.jpg', 'profile_image_url_https': 'https://pbs.twimg.com/profile_images/1194080296821559296/4GUNRuCM_normal.jpg', 'profile_banner_url': 'https://pbs.twimg.com/profile_banners/43855487/1606147636', 'profile_link_color': '1B95E0', 'profile_sidebar_border_color': 'CECECE', 'profile_sidebar_fill_color': 'FFFFFF', 'profile_text_color': '000000', 'profile_use_background_image': True, 'has_extended_profile': False, 'default_profile': False, 'default_profile_image': False, 'following': False, 'follow_request_sent': False, 'notifications': False, 'translator_type': 'none'}, 'geo': None, 'coordinates': None, 'place': None, 'contributors': None, 'is_quote_status': False, 'retweet_count': 0, 'favorite_count': 3, 'favorited': False, 'retweeted': False, 'possibly_sensitive': False, 'lang': 'en'}, created_at=datetime.datetime(2020, 11, 24, 9, 37), id=1331169939630256129, id_str='1331169939630256129', full_text='The contrasting impact across South Asia has been striking despite sharing common traits of young populations spread across densely packed cities and expansive hinterlands \\n\\n#CoronavirusPandemic #COVID__19 #Pakistan \\nhttps://t.co/XubwAzfgJb', truncated=False, display_text_range=[0, 240], entities={'hashtags': [{'text': 'CoronavirusPandemic', 'indices': [174, 194]}, {'text': 'COVID__19', 'indices': [195, 205]}, {'text': 'Pakistan', 'indices': [206, 215]}], 'symbols': [], 'user_mentions': [], 'urls': [{'url': 'https://t.co/XubwAzfgJb', 'expanded_url': 'https://mybs.in/2YRttg7', 'display_url': 'mybs.in/2YRttg7', 'indices': [217, 240]}]}, metadata={'iso_language_code': 'en', 'result_type': 'recent'}, source='TweetDeck', source_url='https://about.twitter.com/products/tweetdeck', in_reply_to_status_id=None, in_reply_to_status_id_str=None, in_reply_to_user_id=None, in_reply_to_user_id_str=None, in_reply_to_screen_name=None, author=User(_api=<tweepy.api.API object at 0x00000291CA268B88>, _json={'id': 43855487, 'id_str': '43855487', 'name': 'Business Standard', 'screen_name': 'bsindia', 'location': 'India', 'description': \"Latest updates #news #LIVE coverage on #economy #companies #markets #politics and #technology from India's leading business daily\\nhttps://t.co/VVl6HGuvvc\", 'url': 'https://t.co/bXS4j8yx1g', 'entities': {'url': {'urls': [{'url': 'https://t.co/bXS4j8yx1g', 'expanded_url': 'http://www.business-standard.com', 'display_url': 'business-standard.com', 'indices': [0, 23]}]}, 'description': {'urls': [{'url': 'https://t.co/VVl6HGuvvc', 'expanded_url': 'http://t.me/bsindiaofficial', 'display_url': 't.me/bsindiaofficial', 'indices': [130, 153]}]}}, 'protected': False, 'followers_count': 2023331, 'friends_count': 377, 'listed_count': 3095, 'created_at': 'Mon Jun 01 08:52:08 +0000 2009', 'favourites_count': 186, 'utc_offset': None, 'time_zone': None, 'geo_enabled': True, 'verified': True, 'statuses_count': 311883, 'lang': None, 'contributors_enabled': False, 'is_translator': False, 'is_translation_enabled': False, 'profile_background_color': '9AE4E8', 'profile_background_image_url': 'http://abs.twimg.com/images/themes/theme1/bg.png', 'profile_background_image_url_https': 'https://abs.twimg.com/images/themes/theme1/bg.png', 'profile_background_tile': False, 'profile_image_url': 'http://pbs.twimg.com/profile_images/1194080296821559296/4GUNRuCM_normal.jpg', 'profile_image_url_https': 'https://pbs.twimg.com/profile_images/1194080296821559296/4GUNRuCM_normal.jpg', 'profile_banner_url': 'https://pbs.twimg.com/profile_banners/43855487/1606147636', 'profile_link_color': '1B95E0', 'profile_sidebar_border_color': 'CECECE', 'profile_sidebar_fill_color': 'FFFFFF', 'profile_text_color': '000000', 'profile_use_background_image': True, 'has_extended_profile': False, 'default_profile': False, 'default_profile_image': False, 'following': False, 'follow_request_sent': False, 'notifications': False, 'translator_type': 'none'}, id=43855487, id_str='43855487', name='Business Standard', screen_name='bsindia', location='India', description=\"Latest updates #news #LIVE coverage on #economy #companies #markets #politics and #technology from India's leading business daily\\nhttps://t.co/VVl6HGuvvc\", url='https://t.co/bXS4j8yx1g', entities={'url': {'urls': [{'url': 'https://t.co/bXS4j8yx1g', 'expanded_url': 'http://www.business-standard.com', 'display_url': 'business-standard.com', 'indices': [0, 23]}]}, 'description': {'urls': [{'url': 'https://t.co/VVl6HGuvvc', 'expanded_url': 'http://t.me/bsindiaofficial', 'display_url': 't.me/bsindiaofficial', 'indices': [130, 153]}]}}, protected=False, followers_count=2023331, friends_count=377, listed_count=3095, created_at=datetime.datetime(2009, 6, 1, 8, 52, 8), favourites_count=186, utc_offset=None, time_zone=None, geo_enabled=True, verified=True, statuses_count=311883, lang=None, contributors_enabled=False, is_translator=False, is_translation_enabled=False, profile_background_color='9AE4E8', profile_background_image_url='http://abs.twimg.com/images/themes/theme1/bg.png', profile_background_image_url_https='https://abs.twimg.com/images/themes/theme1/bg.png', profile_background_tile=False, profile_image_url='http://pbs.twimg.com/profile_images/1194080296821559296/4GUNRuCM_normal.jpg', profile_image_url_https='https://pbs.twimg.com/profile_images/1194080296821559296/4GUNRuCM_normal.jpg', profile_banner_url='https://pbs.twimg.com/profile_banners/43855487/1606147636', profile_link_color='1B95E0', profile_sidebar_border_color='CECECE', profile_sidebar_fill_color='FFFFFF', profile_text_color='000000', profile_use_background_image=True, has_extended_profile=False, default_profile=False, default_profile_image=False, following=False, follow_request_sent=False, notifications=False, translator_type='none'), user=User(_api=<tweepy.api.API object at 0x00000291CA268B88>, _json={'id': 43855487, 'id_str': '43855487', 'name': 'Business Standard', 'screen_name': 'bsindia', 'location': 'India', 'description': \"Latest updates #news #LIVE coverage on #economy #companies #markets #politics and #technology from India's leading business daily\\nhttps://t.co/VVl6HGuvvc\", 'url': 'https://t.co/bXS4j8yx1g', 'entities': {'url': {'urls': [{'url': 'https://t.co/bXS4j8yx1g', 'expanded_url': 'http://www.business-standard.com', 'display_url': 'business-standard.com', 'indices': [0, 23]}]}, 'description': {'urls': [{'url': 'https://t.co/VVl6HGuvvc', 'expanded_url': 'http://t.me/bsindiaofficial', 'display_url': 't.me/bsindiaofficial', 'indices': [130, 153]}]}}, 'protected': False, 'followers_count': 2023331, 'friends_count': 377, 'listed_count': 3095, 'created_at': 'Mon Jun 01 08:52:08 +0000 2009', 'favourites_count': 186, 'utc_offset': None, 'time_zone': None, 'geo_enabled': True, 'verified': True, 'statuses_count': 311883, 'lang': None, 'contributors_enabled': False, 'is_translator': False, 'is_translation_enabled': False, 'profile_background_color': '9AE4E8', 'profile_background_image_url': 'http://abs.twimg.com/images/themes/theme1/bg.png', 'profile_background_image_url_https': 'https://abs.twimg.com/images/themes/theme1/bg.png', 'profile_background_tile': False, 'profile_image_url': 'http://pbs.twimg.com/profile_images/1194080296821559296/4GUNRuCM_normal.jpg', 'profile_image_url_https': 'https://pbs.twimg.com/profile_images/1194080296821559296/4GUNRuCM_normal.jpg', 'profile_banner_url': 'https://pbs.twimg.com/profile_banners/43855487/1606147636', 'profile_link_color': '1B95E0', 'profile_sidebar_border_color': 'CECECE', 'profile_sidebar_fill_color': 'FFFFFF', 'profile_text_color': '000000', 'profile_use_background_image': True, 'has_extended_profile': False, 'default_profile': False, 'default_profile_image': False, 'following': False, 'follow_request_sent': False, 'notifications': False, 'translator_type': 'none'}, id=43855487, id_str='43855487', name='Business Standard', screen_name='bsindia', location='India', description=\"Latest updates #news #LIVE coverage on #economy #companies #markets #politics and #technology from India's leading business daily\\nhttps://t.co/VVl6HGuvvc\", url='https://t.co/bXS4j8yx1g', entities={'url': {'urls': [{'url': 'https://t.co/bXS4j8yx1g', 'expanded_url': 'http://www.business-standard.com', 'display_url': 'business-standard.com', 'indices': [0, 23]}]}, 'description': {'urls': [{'url': 'https://t.co/VVl6HGuvvc', 'expanded_url': 'http://t.me/bsindiaofficial', 'display_url': 't.me/bsindiaofficial', 'indices': [130, 153]}]}}, protected=False, followers_count=2023331, friends_count=377, listed_count=3095, created_at=datetime.datetime(2009, 6, 1, 8, 52, 8), favourites_count=186, utc_offset=None, time_zone=None, geo_enabled=True, verified=True, statuses_count=311883, lang=None, contributors_enabled=False, is_translator=False, is_translation_enabled=False, profile_background_color='9AE4E8', profile_background_image_url='http://abs.twimg.com/images/themes/theme1/bg.png', profile_background_image_url_https='https://abs.twimg.com/images/themes/theme1/bg.png', profile_background_tile=False, profile_image_url='http://pbs.twimg.com/profile_images/1194080296821559296/4GUNRuCM_normal.jpg', profile_image_url_https='https://pbs.twimg.com/profile_images/1194080296821559296/4GUNRuCM_normal.jpg', profile_banner_url='https://pbs.twimg.com/profile_banners/43855487/1606147636', profile_link_color='1B95E0', profile_sidebar_border_color='CECECE', profile_sidebar_fill_color='FFFFFF', profile_text_color='000000', profile_use_background_image=True, has_extended_profile=False, default_profile=False, default_profile_image=False, following=False, follow_request_sent=False, notifications=False, translator_type='none'), geo=None, coordinates=None, place=None, contributors=None, is_quote_status=False, retweet_count=0, favorite_count=3, favorited=False, retweeted=False, possibly_sensitive=False, lang='en') \n",
      "\n",
      "===================================\n",
      "\n",
      "Status(_api=<tweepy.api.API object at 0x00000291CA268B88>, _json={'created_at': 'Tue Nov 24 09:34:43 +0000 2020', 'id': 1331169364641386497, 'id_str': '1331169364641386497', 'full_text': 'Ten StatesUTs account for 7354 of new coronavirus deaths Health Ministry https://t.co/wpHZEGVdiF', 'truncated': False, 'display_text_range': [0, 96], 'entities': {'hashtags': [], 'symbols': [], 'user_mentions': [], 'urls': [{'url': 'https://t.co/wpHZEGVdiF', 'expanded_url': 'https://mybs.in/2YRttYr', 'display_url': 'mybs.in/2YRttYr', 'indices': [73, 96]}]}, 'metadata': {'iso_language_code': 'en', 'result_type': 'recent'}, 'source': '<a href=\"https://mobile.twitter.com\" rel=\"nofollow\">Twitter Web App</a>', 'in_reply_to_status_id': None, 'in_reply_to_status_id_str': None, 'in_reply_to_user_id': None, 'in_reply_to_user_id_str': None, 'in_reply_to_screen_name': None, 'user': {'id': 1245939117168320512, 'id_str': '1245939117168320512', 'name': 'RanjeetVarmaUnderdogK9', 'screen_name': 'ranjeet_k9', 'location': '', 'description': 'The MENTALIST, UNDERDOG, ASPIRER, SAPIOSEXUAL, MEDIA MAN & PROFESSIONAL, BRAND MARKETER, WRITER, ASTROSCIENTIST, QUIZZER, MUSICO, HUMANIST & a DIEHARD K9 lover!', 'url': None, 'entities': {'description': {'urls': []}}, 'protected': False, 'followers_count': 132, 'friends_count': 1405, 'listed_count': 0, 'created_at': 'Fri Apr 03 05:00:29 +0000 2020', 'favourites_count': 7662, 'utc_offset': None, 'time_zone': None, 'geo_enabled': False, 'verified': False, 'statuses_count': 4588, 'lang': None, 'contributors_enabled': False, 'is_translator': False, 'is_translation_enabled': False, 'profile_background_color': 'F5F8FA', 'profile_background_image_url': None, 'profile_background_image_url_https': None, 'profile_background_tile': False, 'profile_image_url': 'http://pbs.twimg.com/profile_images/1314541433886437382/GojqI62G_normal.jpg', 'profile_image_url_https': 'https://pbs.twimg.com/profile_images/1314541433886437382/GojqI62G_normal.jpg', 'profile_banner_url': 'https://pbs.twimg.com/profile_banners/1245939117168320512/1585895358', 'profile_link_color': '1DA1F2', 'profile_sidebar_border_color': 'C0DEED', 'profile_sidebar_fill_color': 'DDEEF6', 'profile_text_color': '333333', 'profile_use_background_image': True, 'has_extended_profile': False, 'default_profile': True, 'default_profile_image': False, 'following': False, 'follow_request_sent': False, 'notifications': False, 'translator_type': 'none'}, 'geo': None, 'coordinates': None, 'place': None, 'contributors': None, 'is_quote_status': False, 'retweet_count': 0, 'favorite_count': 0, 'favorited': False, 'retweeted': False, 'possibly_sensitive': False, 'lang': 'en'}, created_at=datetime.datetime(2020, 11, 24, 9, 34, 43), id=1331169364641386497, id_str='1331169364641386497', full_text='Ten StatesUTs account for 7354 of new coronavirus deaths Health Ministry https://t.co/wpHZEGVdiF', truncated=False, display_text_range=[0, 96], entities={'hashtags': [], 'symbols': [], 'user_mentions': [], 'urls': [{'url': 'https://t.co/wpHZEGVdiF', 'expanded_url': 'https://mybs.in/2YRttYr', 'display_url': 'mybs.in/2YRttYr', 'indices': [73, 96]}]}, metadata={'iso_language_code': 'en', 'result_type': 'recent'}, source='Twitter Web App', source_url='https://mobile.twitter.com', in_reply_to_status_id=None, in_reply_to_status_id_str=None, in_reply_to_user_id=None, in_reply_to_user_id_str=None, in_reply_to_screen_name=None, author=User(_api=<tweepy.api.API object at 0x00000291CA268B88>, _json={'id': 1245939117168320512, 'id_str': '1245939117168320512', 'name': 'RanjeetVarmaUnderdogK9', 'screen_name': 'ranjeet_k9', 'location': '', 'description': 'The MENTALIST, UNDERDOG, ASPIRER, SAPIOSEXUAL, MEDIA MAN & PROFESSIONAL, BRAND MARKETER, WRITER, ASTROSCIENTIST, QUIZZER, MUSICO, HUMANIST & a DIEHARD K9 lover!', 'url': None, 'entities': {'description': {'urls': []}}, 'protected': False, 'followers_count': 132, 'friends_count': 1405, 'listed_count': 0, 'created_at': 'Fri Apr 03 05:00:29 +0000 2020', 'favourites_count': 7662, 'utc_offset': None, 'time_zone': None, 'geo_enabled': False, 'verified': False, 'statuses_count': 4588, 'lang': None, 'contributors_enabled': False, 'is_translator': False, 'is_translation_enabled': False, 'profile_background_color': 'F5F8FA', 'profile_background_image_url': None, 'profile_background_image_url_https': None, 'profile_background_tile': False, 'profile_image_url': 'http://pbs.twimg.com/profile_images/1314541433886437382/GojqI62G_normal.jpg', 'profile_image_url_https': 'https://pbs.twimg.com/profile_images/1314541433886437382/GojqI62G_normal.jpg', 'profile_banner_url': 'https://pbs.twimg.com/profile_banners/1245939117168320512/1585895358', 'profile_link_color': '1DA1F2', 'profile_sidebar_border_color': 'C0DEED', 'profile_sidebar_fill_color': 'DDEEF6', 'profile_text_color': '333333', 'profile_use_background_image': True, 'has_extended_profile': False, 'default_profile': True, 'default_profile_image': False, 'following': False, 'follow_request_sent': False, 'notifications': False, 'translator_type': 'none'}, id=1245939117168320512, id_str='1245939117168320512', name='RanjeetVarmaUnderdogK9', screen_name='ranjeet_k9', location='', description='The MENTALIST, UNDERDOG, ASPIRER, SAPIOSEXUAL, MEDIA MAN & PROFESSIONAL, BRAND MARKETER, WRITER, ASTROSCIENTIST, QUIZZER, MUSICO, HUMANIST & a DIEHARD K9 lover!', url=None, entities={'description': {'urls': []}}, protected=False, followers_count=132, friends_count=1405, listed_count=0, created_at=datetime.datetime(2020, 4, 3, 5, 0, 29), favourites_count=7662, utc_offset=None, time_zone=None, geo_enabled=False, verified=False, statuses_count=4588, lang=None, contributors_enabled=False, is_translator=False, is_translation_enabled=False, profile_background_color='F5F8FA', profile_background_image_url=None, profile_background_image_url_https=None, profile_background_tile=False, profile_image_url='http://pbs.twimg.com/profile_images/1314541433886437382/GojqI62G_normal.jpg', profile_image_url_https='https://pbs.twimg.com/profile_images/1314541433886437382/GojqI62G_normal.jpg', profile_banner_url='https://pbs.twimg.com/profile_banners/1245939117168320512/1585895358', profile_link_color='1DA1F2', profile_sidebar_border_color='C0DEED', profile_sidebar_fill_color='DDEEF6', profile_text_color='333333', profile_use_background_image=True, has_extended_profile=False, default_profile=True, default_profile_image=False, following=False, follow_request_sent=False, notifications=False, translator_type='none'), user=User(_api=<tweepy.api.API object at 0x00000291CA268B88>, _json={'id': 1245939117168320512, 'id_str': '1245939117168320512', 'name': 'RanjeetVarmaUnderdogK9', 'screen_name': 'ranjeet_k9', 'location': '', 'description': 'The MENTALIST, UNDERDOG, ASPIRER, SAPIOSEXUAL, MEDIA MAN & PROFESSIONAL, BRAND MARKETER, WRITER, ASTROSCIENTIST, QUIZZER, MUSICO, HUMANIST & a DIEHARD K9 lover!', 'url': None, 'entities': {'description': {'urls': []}}, 'protected': False, 'followers_count': 132, 'friends_count': 1405, 'listed_count': 0, 'created_at': 'Fri Apr 03 05:00:29 +0000 2020', 'favourites_count': 7662, 'utc_offset': None, 'time_zone': None, 'geo_enabled': False, 'verified': False, 'statuses_count': 4588, 'lang': None, 'contributors_enabled': False, 'is_translator': False, 'is_translation_enabled': False, 'profile_background_color': 'F5F8FA', 'profile_background_image_url': None, 'profile_background_image_url_https': None, 'profile_background_tile': False, 'profile_image_url': 'http://pbs.twimg.com/profile_images/1314541433886437382/GojqI62G_normal.jpg', 'profile_image_url_https': 'https://pbs.twimg.com/profile_images/1314541433886437382/GojqI62G_normal.jpg', 'profile_banner_url': 'https://pbs.twimg.com/profile_banners/1245939117168320512/1585895358', 'profile_link_color': '1DA1F2', 'profile_sidebar_border_color': 'C0DEED', 'profile_sidebar_fill_color': 'DDEEF6', 'profile_text_color': '333333', 'profile_use_background_image': True, 'has_extended_profile': False, 'default_profile': True, 'default_profile_image': False, 'following': False, 'follow_request_sent': False, 'notifications': False, 'translator_type': 'none'}, id=1245939117168320512, id_str='1245939117168320512', name='RanjeetVarmaUnderdogK9', screen_name='ranjeet_k9', location='', description='The MENTALIST, UNDERDOG, ASPIRER, SAPIOSEXUAL, MEDIA MAN & PROFESSIONAL, BRAND MARKETER, WRITER, ASTROSCIENTIST, QUIZZER, MUSICO, HUMANIST & a DIEHARD K9 lover!', url=None, entities={'description': {'urls': []}}, protected=False, followers_count=132, friends_count=1405, listed_count=0, created_at=datetime.datetime(2020, 4, 3, 5, 0, 29), favourites_count=7662, utc_offset=None, time_zone=None, geo_enabled=False, verified=False, statuses_count=4588, lang=None, contributors_enabled=False, is_translator=False, is_translation_enabled=False, profile_background_color='F5F8FA', profile_background_image_url=None, profile_background_image_url_https=None, profile_background_tile=False, profile_image_url='http://pbs.twimg.com/profile_images/1314541433886437382/GojqI62G_normal.jpg', profile_image_url_https='https://pbs.twimg.com/profile_images/1314541433886437382/GojqI62G_normal.jpg', profile_banner_url='https://pbs.twimg.com/profile_banners/1245939117168320512/1585895358', profile_link_color='1DA1F2', profile_sidebar_border_color='C0DEED', profile_sidebar_fill_color='DDEEF6', profile_text_color='333333', profile_use_background_image=True, has_extended_profile=False, default_profile=True, default_profile_image=False, following=False, follow_request_sent=False, notifications=False, translator_type='none'), geo=None, coordinates=None, place=None, contributors=None, is_quote_status=False, retweet_count=0, favorite_count=0, favorited=False, retweeted=False, possibly_sensitive=False, lang='en') \n",
      "\n",
      "===================================\n",
      "\n",
      "Status(_api=<tweepy.api.API object at 0x00000291CA268B88>, _json={'created_at': 'Tue Nov 24 09:34:27 +0000 2020', 'id': 1331169298446839808, 'id_str': '1331169298446839808', 'full_text': \"Coronavirus In India  | We've To Bring Positivity Rate Under 5%: PM Modi After Meeting With CMs\\n\\n#COVID19 #coronavirus \\n\\nLIVE UPDATES: https://t.co/4NR54ICxyf https://t.co/ijCH2B4G0w\", 'truncated': False, 'display_text_range': [0, 158], 'entities': {'hashtags': [{'text': 'COVID19', 'indices': [97, 105]}, {'text': 'coronavirus', 'indices': [106, 118]}], 'symbols': [], 'user_mentions': [], 'urls': [{'url': 'https://t.co/4NR54ICxyf', 'expanded_url': 'https://bit.ly/2JaLzcw', 'display_url': 'bit.ly/2JaLzcw', 'indices': [135, 158]}], 'media': [{'id': 1331169223066828800, 'id_str': '1331169223066828800', 'indices': [159, 182], 'media_url': 'http://pbs.twimg.com/media/EnlDWwTUwAApJe0.jpg', 'media_url_https': 'https://pbs.twimg.com/media/EnlDWwTUwAApJe0.jpg', 'url': 'https://t.co/ijCH2B4G0w', 'display_url': 'pic.twitter.com/ijCH2B4G0w', 'expanded_url': 'https://twitter.com/ABPNews/status/1331169298446839808/photo/1', 'type': 'photo', 'sizes': {'medium': {'w': 787, 'h': 536, 'resize': 'fit'}, 'thumb': {'w': 150, 'h': 150, 'resize': 'crop'}, 'large': {'w': 787, 'h': 536, 'resize': 'fit'}, 'small': {'w': 680, 'h': 463, 'resize': 'fit'}}}]}, 'extended_entities': {'media': [{'id': 1331169223066828800, 'id_str': '1331169223066828800', 'indices': [159, 182], 'media_url': 'http://pbs.twimg.com/media/EnlDWwTUwAApJe0.jpg', 'media_url_https': 'https://pbs.twimg.com/media/EnlDWwTUwAApJe0.jpg', 'url': 'https://t.co/ijCH2B4G0w', 'display_url': 'pic.twitter.com/ijCH2B4G0w', 'expanded_url': 'https://twitter.com/ABPNews/status/1331169298446839808/photo/1', 'type': 'photo', 'sizes': {'medium': {'w': 787, 'h': 536, 'resize': 'fit'}, 'thumb': {'w': 150, 'h': 150, 'resize': 'crop'}, 'large': {'w': 787, 'h': 536, 'resize': 'fit'}, 'small': {'w': 680, 'h': 463, 'resize': 'fit'}}}]}, 'metadata': {'iso_language_code': 'en', 'result_type': 'recent'}, 'source': '<a href=\"https://mobile.twitter.com\" rel=\"nofollow\">Twitter Web App</a>', 'in_reply_to_status_id': None, 'in_reply_to_status_id_str': None, 'in_reply_to_user_id': None, 'in_reply_to_user_id_str': None, 'in_reply_to_screen_name': None, 'user': {'id': 39240673, 'id_str': '39240673', 'name': 'ABP News', 'screen_name': 'ABPNews', 'location': 'India', 'description': 'Follow for latest news alerts from India', 'url': 'https://t.co/oO7Op9x6aQ', 'entities': {'url': {'urls': [{'url': 'https://t.co/oO7Op9x6aQ', 'expanded_url': 'http://abplive.com', 'display_url': 'abplive.com', 'indices': [0, 23]}]}, 'description': {'urls': []}}, 'protected': False, 'followers_count': 10594836, 'friends_count': 190, 'listed_count': 3976, 'created_at': 'Mon May 11 12:25:51 +0000 2009', 'favourites_count': 122, 'utc_offset': None, 'time_zone': None, 'geo_enabled': True, 'verified': True, 'statuses_count': 276688, 'lang': None, 'contributors_enabled': False, 'is_translator': False, 'is_translation_enabled': False, 'profile_background_color': '00326F', 'profile_background_image_url': 'http://abs.twimg.com/images/themes/theme4/bg.gif', 'profile_background_image_url_https': 'https://abs.twimg.com/images/themes/theme4/bg.gif', 'profile_background_tile': False, 'profile_image_url': 'http://pbs.twimg.com/profile_images/1093087956141715456/uR5Dz8p2_normal.jpg', 'profile_image_url_https': 'https://pbs.twimg.com/profile_images/1093087956141715456/uR5Dz8p2_normal.jpg', 'profile_banner_url': 'https://pbs.twimg.com/profile_banners/39240673/1605697931', 'profile_link_color': '0084B4', 'profile_sidebar_border_color': 'FFFFFF', 'profile_sidebar_fill_color': 'F5E216', 'profile_text_color': '080808', 'profile_use_background_image': True, 'has_extended_profile': False, 'default_profile': False, 'default_profile_image': False, 'following': False, 'follow_request_sent': False, 'notifications': False, 'translator_type': 'none'}, 'geo': None, 'coordinates': None, 'place': None, 'contributors': None, 'is_quote_status': False, 'retweet_count': 3, 'favorite_count': 38, 'favorited': False, 'retweeted': False, 'possibly_sensitive': False, 'lang': 'en'}, created_at=datetime.datetime(2020, 11, 24, 9, 34, 27), id=1331169298446839808, id_str='1331169298446839808', full_text=\"Coronavirus In India  | We've To Bring Positivity Rate Under 5%: PM Modi After Meeting With CMs\\n\\n#COVID19 #coronavirus \\n\\nLIVE UPDATES: https://t.co/4NR54ICxyf https://t.co/ijCH2B4G0w\", truncated=False, display_text_range=[0, 158], entities={'hashtags': [{'text': 'COVID19', 'indices': [97, 105]}, {'text': 'coronavirus', 'indices': [106, 118]}], 'symbols': [], 'user_mentions': [], 'urls': [{'url': 'https://t.co/4NR54ICxyf', 'expanded_url': 'https://bit.ly/2JaLzcw', 'display_url': 'bit.ly/2JaLzcw', 'indices': [135, 158]}], 'media': [{'id': 1331169223066828800, 'id_str': '1331169223066828800', 'indices': [159, 182], 'media_url': 'http://pbs.twimg.com/media/EnlDWwTUwAApJe0.jpg', 'media_url_https': 'https://pbs.twimg.com/media/EnlDWwTUwAApJe0.jpg', 'url': 'https://t.co/ijCH2B4G0w', 'display_url': 'pic.twitter.com/ijCH2B4G0w', 'expanded_url': 'https://twitter.com/ABPNews/status/1331169298446839808/photo/1', 'type': 'photo', 'sizes': {'medium': {'w': 787, 'h': 536, 'resize': 'fit'}, 'thumb': {'w': 150, 'h': 150, 'resize': 'crop'}, 'large': {'w': 787, 'h': 536, 'resize': 'fit'}, 'small': {'w': 680, 'h': 463, 'resize': 'fit'}}}]}, extended_entities={'media': [{'id': 1331169223066828800, 'id_str': '1331169223066828800', 'indices': [159, 182], 'media_url': 'http://pbs.twimg.com/media/EnlDWwTUwAApJe0.jpg', 'media_url_https': 'https://pbs.twimg.com/media/EnlDWwTUwAApJe0.jpg', 'url': 'https://t.co/ijCH2B4G0w', 'display_url': 'pic.twitter.com/ijCH2B4G0w', 'expanded_url': 'https://twitter.com/ABPNews/status/1331169298446839808/photo/1', 'type': 'photo', 'sizes': {'medium': {'w': 787, 'h': 536, 'resize': 'fit'}, 'thumb': {'w': 150, 'h': 150, 'resize': 'crop'}, 'large': {'w': 787, 'h': 536, 'resize': 'fit'}, 'small': {'w': 680, 'h': 463, 'resize': 'fit'}}}]}, metadata={'iso_language_code': 'en', 'result_type': 'recent'}, source='Twitter Web App', source_url='https://mobile.twitter.com', in_reply_to_status_id=None, in_reply_to_status_id_str=None, in_reply_to_user_id=None, in_reply_to_user_id_str=None, in_reply_to_screen_name=None, author=User(_api=<tweepy.api.API object at 0x00000291CA268B88>, _json={'id': 39240673, 'id_str': '39240673', 'name': 'ABP News', 'screen_name': 'ABPNews', 'location': 'India', 'description': 'Follow for latest news alerts from India', 'url': 'https://t.co/oO7Op9x6aQ', 'entities': {'url': {'urls': [{'url': 'https://t.co/oO7Op9x6aQ', 'expanded_url': 'http://abplive.com', 'display_url': 'abplive.com', 'indices': [0, 23]}]}, 'description': {'urls': []}}, 'protected': False, 'followers_count': 10594836, 'friends_count': 190, 'listed_count': 3976, 'created_at': 'Mon May 11 12:25:51 +0000 2009', 'favourites_count': 122, 'utc_offset': None, 'time_zone': None, 'geo_enabled': True, 'verified': True, 'statuses_count': 276688, 'lang': None, 'contributors_enabled': False, 'is_translator': False, 'is_translation_enabled': False, 'profile_background_color': '00326F', 'profile_background_image_url': 'http://abs.twimg.com/images/themes/theme4/bg.gif', 'profile_background_image_url_https': 'https://abs.twimg.com/images/themes/theme4/bg.gif', 'profile_background_tile': False, 'profile_image_url': 'http://pbs.twimg.com/profile_images/1093087956141715456/uR5Dz8p2_normal.jpg', 'profile_image_url_https': 'https://pbs.twimg.com/profile_images/1093087956141715456/uR5Dz8p2_normal.jpg', 'profile_banner_url': 'https://pbs.twimg.com/profile_banners/39240673/1605697931', 'profile_link_color': '0084B4', 'profile_sidebar_border_color': 'FFFFFF', 'profile_sidebar_fill_color': 'F5E216', 'profile_text_color': '080808', 'profile_use_background_image': True, 'has_extended_profile': False, 'default_profile': False, 'default_profile_image': False, 'following': False, 'follow_request_sent': False, 'notifications': False, 'translator_type': 'none'}, id=39240673, id_str='39240673', name='ABP News', screen_name='ABPNews', location='India', description='Follow for latest news alerts from India', url='https://t.co/oO7Op9x6aQ', entities={'url': {'urls': [{'url': 'https://t.co/oO7Op9x6aQ', 'expanded_url': 'http://abplive.com', 'display_url': 'abplive.com', 'indices': [0, 23]}]}, 'description': {'urls': []}}, protected=False, followers_count=10594836, friends_count=190, listed_count=3976, created_at=datetime.datetime(2009, 5, 11, 12, 25, 51), favourites_count=122, utc_offset=None, time_zone=None, geo_enabled=True, verified=True, statuses_count=276688, lang=None, contributors_enabled=False, is_translator=False, is_translation_enabled=False, profile_background_color='00326F', profile_background_image_url='http://abs.twimg.com/images/themes/theme4/bg.gif', profile_background_image_url_https='https://abs.twimg.com/images/themes/theme4/bg.gif', profile_background_tile=False, profile_image_url='http://pbs.twimg.com/profile_images/1093087956141715456/uR5Dz8p2_normal.jpg', profile_image_url_https='https://pbs.twimg.com/profile_images/1093087956141715456/uR5Dz8p2_normal.jpg', profile_banner_url='https://pbs.twimg.com/profile_banners/39240673/1605697931', profile_link_color='0084B4', profile_sidebar_border_color='FFFFFF', profile_sidebar_fill_color='F5E216', profile_text_color='080808', profile_use_background_image=True, has_extended_profile=False, default_profile=False, default_profile_image=False, following=False, follow_request_sent=False, notifications=False, translator_type='none'), user=User(_api=<tweepy.api.API object at 0x00000291CA268B88>, _json={'id': 39240673, 'id_str': '39240673', 'name': 'ABP News', 'screen_name': 'ABPNews', 'location': 'India', 'description': 'Follow for latest news alerts from India', 'url': 'https://t.co/oO7Op9x6aQ', 'entities': {'url': {'urls': [{'url': 'https://t.co/oO7Op9x6aQ', 'expanded_url': 'http://abplive.com', 'display_url': 'abplive.com', 'indices': [0, 23]}]}, 'description': {'urls': []}}, 'protected': False, 'followers_count': 10594836, 'friends_count': 190, 'listed_count': 3976, 'created_at': 'Mon May 11 12:25:51 +0000 2009', 'favourites_count': 122, 'utc_offset': None, 'time_zone': None, 'geo_enabled': True, 'verified': True, 'statuses_count': 276688, 'lang': None, 'contributors_enabled': False, 'is_translator': False, 'is_translation_enabled': False, 'profile_background_color': '00326F', 'profile_background_image_url': 'http://abs.twimg.com/images/themes/theme4/bg.gif', 'profile_background_image_url_https': 'https://abs.twimg.com/images/themes/theme4/bg.gif', 'profile_background_tile': False, 'profile_image_url': 'http://pbs.twimg.com/profile_images/1093087956141715456/uR5Dz8p2_normal.jpg', 'profile_image_url_https': 'https://pbs.twimg.com/profile_images/1093087956141715456/uR5Dz8p2_normal.jpg', 'profile_banner_url': 'https://pbs.twimg.com/profile_banners/39240673/1605697931', 'profile_link_color': '0084B4', 'profile_sidebar_border_color': 'FFFFFF', 'profile_sidebar_fill_color': 'F5E216', 'profile_text_color': '080808', 'profile_use_background_image': True, 'has_extended_profile': False, 'default_profile': False, 'default_profile_image': False, 'following': False, 'follow_request_sent': False, 'notifications': False, 'translator_type': 'none'}, id=39240673, id_str='39240673', name='ABP News', screen_name='ABPNews', location='India', description='Follow for latest news alerts from India', url='https://t.co/oO7Op9x6aQ', entities={'url': {'urls': [{'url': 'https://t.co/oO7Op9x6aQ', 'expanded_url': 'http://abplive.com', 'display_url': 'abplive.com', 'indices': [0, 23]}]}, 'description': {'urls': []}}, protected=False, followers_count=10594836, friends_count=190, listed_count=3976, created_at=datetime.datetime(2009, 5, 11, 12, 25, 51), favourites_count=122, utc_offset=None, time_zone=None, geo_enabled=True, verified=True, statuses_count=276688, lang=None, contributors_enabled=False, is_translator=False, is_translation_enabled=False, profile_background_color='00326F', profile_background_image_url='http://abs.twimg.com/images/themes/theme4/bg.gif', profile_background_image_url_https='https://abs.twimg.com/images/themes/theme4/bg.gif', profile_background_tile=False, profile_image_url='http://pbs.twimg.com/profile_images/1093087956141715456/uR5Dz8p2_normal.jpg', profile_image_url_https='https://pbs.twimg.com/profile_images/1093087956141715456/uR5Dz8p2_normal.jpg', profile_banner_url='https://pbs.twimg.com/profile_banners/39240673/1605697931', profile_link_color='0084B4', profile_sidebar_border_color='FFFFFF', profile_sidebar_fill_color='F5E216', profile_text_color='080808', profile_use_background_image=True, has_extended_profile=False, default_profile=False, default_profile_image=False, following=False, follow_request_sent=False, notifications=False, translator_type='none'), geo=None, coordinates=None, place=None, contributors=None, is_quote_status=False, retweet_count=3, favorite_count=38, favorited=False, retweeted=False, possibly_sensitive=False, lang='en') \n",
      "\n",
      "===================================\n",
      "\n"
     ]
    }
   ],
   "source": [
    "Tweets=api.search(query,count=10,lang='en',exclude='retweets',tweet_mode=\"extended\")\n",
    "for tweet in Tweets:\n",
    "    print(tweet,'\\n')\n",
    "    print(\"===================================\\n\")"
   ]
  },
  {
   "cell_type": "markdown",
   "metadata": {},
   "source": [
    "# Get the tweets and some Attributes"
   ]
  },
  {
   "cell_type": "code",
   "execution_count": 8,
   "metadata": {},
   "outputs": [
    {
     "name": "stdout",
     "output_type": "stream",
     "text": [
      "Empty DataFrame\n",
      "Columns: [Tweets, User, User_statuses_count, User_followers, User_location, User_verified, fav_count, rt_count, tweet_date]\n",
      "Index: []\n",
      "(0, 9)\n"
     ]
    }
   ],
   "source": [
    "df=pd.DataFrame(columns=['Tweets','User','User_statuses_count','User_followers','User_location',\n",
    "                        'User_verified','fav_count','rt_count','tweet_date'])\n",
    "print(df)\n",
    "print(df.shape)"
   ]
  },
  {
   "cell_type": "code",
   "execution_count": 9,
   "metadata": {},
   "outputs": [],
   "source": [
    "def stream(data, file_name):\n",
    "    i = 0\n",
    "    for tweet in tweepy.Cursor(api.search, q=data, count=100, lang='en').items():\n",
    "        print(i, end='\\r')\n",
    "        df.loc[i, 'Tweets'] = tweet.text\n",
    "        df.loc[i, 'User'] = tweet.user.name\n",
    "        df.loc[i, 'User_statuses_count'] = tweet.user.statuses_count\n",
    "        df.loc[i, 'User_followers'] = tweet.user.followers_count\n",
    "        df.loc[i, 'User_location'] = tweet.user.location\n",
    "        df.loc[i, 'User_verified'] = tweet.user.verified\n",
    "        df.loc[i, 'fav_count'] = tweet.favorite_count\n",
    "        df.loc[i, 'rt_count'] = tweet.retweet_count\n",
    "        df.loc[i, 'tweet_date'] = tweet.created_at\n",
    "        df.to_excel('{}.xlsx'.format(file_name))\n",
    "        i = i+1\n",
    "        if i == 1000:\n",
    "            break\n",
    "        else:\n",
    "            pass"
   ]
  },
  {
   "cell_type": "code",
   "execution_count": 10,
   "metadata": {},
   "outputs": [
    {
     "name": "stdout",
     "output_type": "stream",
     "text": [
      "999\r"
     ]
    }
   ],
   "source": [
    "stream(data=[\"Covid cases in India\"] , file_name='my_tweets')"
   ]
  },
  {
   "cell_type": "code",
   "execution_count": 11,
   "metadata": {},
   "outputs": [
    {
     "data": {
      "text/html": [
       "<div>\n",
       "<style scoped>\n",
       "    .dataframe tbody tr th:only-of-type {\n",
       "        vertical-align: middle;\n",
       "    }\n",
       "\n",
       "    .dataframe tbody tr th {\n",
       "        vertical-align: top;\n",
       "    }\n",
       "\n",
       "    .dataframe thead th {\n",
       "        text-align: right;\n",
       "    }\n",
       "</style>\n",
       "<table border=\"1\" class=\"dataframe\">\n",
       "  <thead>\n",
       "    <tr style=\"text-align: right;\">\n",
       "      <th></th>\n",
       "      <th>Tweets</th>\n",
       "      <th>User</th>\n",
       "      <th>User_statuses_count</th>\n",
       "      <th>User_followers</th>\n",
       "      <th>User_location</th>\n",
       "      <th>User_verified</th>\n",
       "      <th>fav_count</th>\n",
       "      <th>rt_count</th>\n",
       "      <th>tweet_date</th>\n",
       "    </tr>\n",
       "  </thead>\n",
       "  <tbody>\n",
       "    <tr>\n",
       "      <th>0</th>\n",
       "      <td>RT @Sagarja79036511: We know that there are a ...</td>\n",
       "      <td>sonu nabha</td>\n",
       "      <td>4398</td>\n",
       "      <td>9</td>\n",
       "      <td></td>\n",
       "      <td>False</td>\n",
       "      <td>0</td>\n",
       "      <td>22</td>\n",
       "      <td>2020-11-24 10:39:28</td>\n",
       "    </tr>\n",
       "    <tr>\n",
       "      <th>1</th>\n",
       "      <td>RT @jamilhussan_a: #COVID19 – Since almost one...</td>\n",
       "      <td>شهيد الشيخ</td>\n",
       "      <td>3723</td>\n",
       "      <td>2063</td>\n",
       "      <td></td>\n",
       "      <td>False</td>\n",
       "      <td>0</td>\n",
       "      <td>47</td>\n",
       "      <td>2020-11-24 10:39:11</td>\n",
       "    </tr>\n",
       "    <tr>\n",
       "      <th>2</th>\n",
       "      <td>In India \"Low footfall in theatres has meant n...</td>\n",
       "      <td>Cinema-will-be-back Guru</td>\n",
       "      <td>14811</td>\n",
       "      <td>2772</td>\n",
       "      <td>London, England</td>\n",
       "      <td>False</td>\n",
       "      <td>1</td>\n",
       "      <td>0</td>\n",
       "      <td>2020-11-24 10:35:21</td>\n",
       "    </tr>\n",
       "    <tr>\n",
       "      <th>3</th>\n",
       "      <td>RT @jamilhussan_a: #COVID19 – Since almost one...</td>\n",
       "      <td>Mohammad Azam/محمد اعظم/मोहम्मद आज़म 🇮🇳</td>\n",
       "      <td>47222</td>\n",
       "      <td>3676</td>\n",
       "      <td>Shaheen Bagh</td>\n",
       "      <td>False</td>\n",
       "      <td>0</td>\n",
       "      <td>47</td>\n",
       "      <td>2020-11-24 10:32:50</td>\n",
       "    </tr>\n",
       "    <tr>\n",
       "      <th>4</th>\n",
       "      <td>RT @jamilhussan_a: #COVID19 – Since almost one...</td>\n",
       "      <td>ARFAT✋🏻INC 🙏🏻</td>\n",
       "      <td>109941</td>\n",
       "      <td>8683</td>\n",
       "      <td>𝐎𝐝𝐢𝐬𝐬𝐚,𝐈𝐧𝐝𝐢𝐚</td>\n",
       "      <td>False</td>\n",
       "      <td>0</td>\n",
       "      <td>47</td>\n",
       "      <td>2020-11-24 10:26:02</td>\n",
       "    </tr>\n",
       "  </tbody>\n",
       "</table>\n",
       "</div>"
      ],
      "text/plain": [
       "                                              Tweets  \\\n",
       "0  RT @Sagarja79036511: We know that there are a ...   \n",
       "1  RT @jamilhussan_a: #COVID19 – Since almost one...   \n",
       "2  In India \"Low footfall in theatres has meant n...   \n",
       "3  RT @jamilhussan_a: #COVID19 – Since almost one...   \n",
       "4  RT @jamilhussan_a: #COVID19 – Since almost one...   \n",
       "\n",
       "                                      User User_statuses_count User_followers  \\\n",
       "0                               sonu nabha                4398              9   \n",
       "1                               شهيد الشيخ                3723           2063   \n",
       "2                 Cinema-will-be-back Guru               14811           2772   \n",
       "3  Mohammad Azam/محمد اعظم/मोहम्मद आज़म 🇮🇳               47222           3676   \n",
       "4                            ARFAT✋🏻INC 🙏🏻              109941           8683   \n",
       "\n",
       "     User_location User_verified fav_count rt_count           tweet_date  \n",
       "0                          False         0       22  2020-11-24 10:39:28  \n",
       "1                          False         0       47  2020-11-24 10:39:11  \n",
       "2  London, England         False         1        0  2020-11-24 10:35:21  \n",
       "3    Shaheen Bagh          False         0       47  2020-11-24 10:32:50  \n",
       "4    𝐎𝐝𝐢𝐬𝐬𝐚,𝐈𝐧𝐝𝐢𝐚          False         0       47  2020-11-24 10:26:02  "
      ]
     },
     "execution_count": 11,
     "metadata": {},
     "output_type": "execute_result"
    }
   ],
   "source": [
    "df.head()"
   ]
  },
  {
   "cell_type": "code",
   "execution_count": 12,
   "metadata": {},
   "outputs": [
    {
     "name": "stdout",
     "output_type": "stream",
     "text": [
      "Requirement already satisfied: textblob in c:\\users\\akash\\anaconda\\lib\\site-packages (0.15.3)\n",
      "Requirement already satisfied: nltk>=3.1 in c:\\users\\akash\\anaconda\\lib\\site-packages (from textblob) (3.4.5)\n",
      "Requirement already satisfied: six in c:\\users\\akash\\anaconda\\lib\\site-packages (from nltk>=3.1->textblob) (1.14.0)\n"
     ]
    }
   ],
   "source": [
    "!pip install textblob"
   ]
  },
  {
   "cell_type": "raw",
   "metadata": {},
   "source": [
    "Sentiment(polarity, subjectivity)\n",
    "\n",
    "Polarity score: [-1 , +1]\n",
    "\n",
    "Subjectivity: [0.0 , 1.0] \n",
    "where 0.0 is very Objective and 1.0 is very Subjective."
   ]
  },
  {
   "cell_type": "code",
   "execution_count": 13,
   "metadata": {},
   "outputs": [],
   "source": [
    "from textblob import TextBlob"
   ]
  },
  {
   "cell_type": "code",
   "execution_count": 14,
   "metadata": {},
   "outputs": [],
   "source": [
    "import re\n",
    "def clean_tweet(tweet):\n",
    "    return ' '.join(re.sub('(@[A-Za-z0-9]+)|([^0-9A-Za-z \\t])|(\\w+:\\/\\/\\S+)', ' ', tweet).split())"
   ]
  },
  {
   "cell_type": "code",
   "execution_count": 15,
   "metadata": {},
   "outputs": [],
   "source": [
    "def analyze_sentiment(tweet):\n",
    "    analysis = TextBlob(tweet)\n",
    "    if analysis.sentiment.polarity > 0:\n",
    "        return 'Positive'\n",
    "    elif analysis.sentiment.polarity == 0:\n",
    "        return 'Neutral'\n",
    "    else:\n",
    "        return 'Negative'"
   ]
  },
  {
   "cell_type": "code",
   "execution_count": 16,
   "metadata": {},
   "outputs": [],
   "source": [
    "df['clean_tweet'] = df['Tweets'].apply(lambda x : clean_tweet(x))"
   ]
  },
  {
   "cell_type": "code",
   "execution_count": 17,
   "metadata": {},
   "outputs": [
    {
     "data": {
      "text/html": [
       "<div>\n",
       "<style scoped>\n",
       "    .dataframe tbody tr th:only-of-type {\n",
       "        vertical-align: middle;\n",
       "    }\n",
       "\n",
       "    .dataframe tbody tr th {\n",
       "        vertical-align: top;\n",
       "    }\n",
       "\n",
       "    .dataframe thead th {\n",
       "        text-align: right;\n",
       "    }\n",
       "</style>\n",
       "<table border=\"1\" class=\"dataframe\">\n",
       "  <thead>\n",
       "    <tr style=\"text-align: right;\">\n",
       "      <th></th>\n",
       "      <th>Tweets</th>\n",
       "      <th>User</th>\n",
       "      <th>User_statuses_count</th>\n",
       "      <th>User_followers</th>\n",
       "      <th>User_location</th>\n",
       "      <th>User_verified</th>\n",
       "      <th>fav_count</th>\n",
       "      <th>rt_count</th>\n",
       "      <th>tweet_date</th>\n",
       "      <th>clean_tweet</th>\n",
       "    </tr>\n",
       "  </thead>\n",
       "  <tbody>\n",
       "    <tr>\n",
       "      <th>0</th>\n",
       "      <td>RT @Sagarja79036511: We know that there are a ...</td>\n",
       "      <td>sonu nabha</td>\n",
       "      <td>4398</td>\n",
       "      <td>9</td>\n",
       "      <td></td>\n",
       "      <td>False</td>\n",
       "      <td>0</td>\n",
       "      <td>22</td>\n",
       "      <td>2020-11-24 10:39:28</td>\n",
       "      <td>RT We know that there are a lot of cases in In...</td>\n",
       "    </tr>\n",
       "    <tr>\n",
       "      <th>1</th>\n",
       "      <td>RT @jamilhussan_a: #COVID19 – Since almost one...</td>\n",
       "      <td>شهيد الشيخ</td>\n",
       "      <td>3723</td>\n",
       "      <td>2063</td>\n",
       "      <td></td>\n",
       "      <td>False</td>\n",
       "      <td>0</td>\n",
       "      <td>47</td>\n",
       "      <td>2020-11-24 10:39:11</td>\n",
       "      <td>RT a COVID19 Since almost one month Delhi has ...</td>\n",
       "    </tr>\n",
       "    <tr>\n",
       "      <th>2</th>\n",
       "      <td>In India \"Low footfall in theatres has meant n...</td>\n",
       "      <td>Cinema-will-be-back Guru</td>\n",
       "      <td>14811</td>\n",
       "      <td>2772</td>\n",
       "      <td>London, England</td>\n",
       "      <td>False</td>\n",
       "      <td>1</td>\n",
       "      <td>0</td>\n",
       "      <td>2020-11-24 10:35:21</td>\n",
       "      <td>In India Low footfall in theatres has meant no...</td>\n",
       "    </tr>\n",
       "    <tr>\n",
       "      <th>3</th>\n",
       "      <td>RT @jamilhussan_a: #COVID19 – Since almost one...</td>\n",
       "      <td>Mohammad Azam/محمد اعظم/मोहम्मद आज़म 🇮🇳</td>\n",
       "      <td>47222</td>\n",
       "      <td>3676</td>\n",
       "      <td>Shaheen Bagh</td>\n",
       "      <td>False</td>\n",
       "      <td>0</td>\n",
       "      <td>47</td>\n",
       "      <td>2020-11-24 10:32:50</td>\n",
       "      <td>RT a COVID19 Since almost one month Delhi has ...</td>\n",
       "    </tr>\n",
       "    <tr>\n",
       "      <th>4</th>\n",
       "      <td>RT @jamilhussan_a: #COVID19 – Since almost one...</td>\n",
       "      <td>ARFAT✋🏻INC 🙏🏻</td>\n",
       "      <td>109941</td>\n",
       "      <td>8683</td>\n",
       "      <td>𝐎𝐝𝐢𝐬𝐬𝐚,𝐈𝐧𝐝𝐢𝐚</td>\n",
       "      <td>False</td>\n",
       "      <td>0</td>\n",
       "      <td>47</td>\n",
       "      <td>2020-11-24 10:26:02</td>\n",
       "      <td>RT a COVID19 Since almost one month Delhi has ...</td>\n",
       "    </tr>\n",
       "  </tbody>\n",
       "</table>\n",
       "</div>"
      ],
      "text/plain": [
       "                                              Tweets  \\\n",
       "0  RT @Sagarja79036511: We know that there are a ...   \n",
       "1  RT @jamilhussan_a: #COVID19 – Since almost one...   \n",
       "2  In India \"Low footfall in theatres has meant n...   \n",
       "3  RT @jamilhussan_a: #COVID19 – Since almost one...   \n",
       "4  RT @jamilhussan_a: #COVID19 – Since almost one...   \n",
       "\n",
       "                                      User User_statuses_count User_followers  \\\n",
       "0                               sonu nabha                4398              9   \n",
       "1                               شهيد الشيخ                3723           2063   \n",
       "2                 Cinema-will-be-back Guru               14811           2772   \n",
       "3  Mohammad Azam/محمد اعظم/मोहम्मद आज़म 🇮🇳               47222           3676   \n",
       "4                            ARFAT✋🏻INC 🙏🏻              109941           8683   \n",
       "\n",
       "     User_location User_verified fav_count rt_count           tweet_date  \\\n",
       "0                          False         0       22  2020-11-24 10:39:28   \n",
       "1                          False         0       47  2020-11-24 10:39:11   \n",
       "2  London, England         False         1        0  2020-11-24 10:35:21   \n",
       "3    Shaheen Bagh          False         0       47  2020-11-24 10:32:50   \n",
       "4    𝐎𝐝𝐢𝐬𝐬𝐚,𝐈𝐧𝐝𝐢𝐚          False         0       47  2020-11-24 10:26:02   \n",
       "\n",
       "                                         clean_tweet  \n",
       "0  RT We know that there are a lot of cases in In...  \n",
       "1  RT a COVID19 Since almost one month Delhi has ...  \n",
       "2  In India Low footfall in theatres has meant no...  \n",
       "3  RT a COVID19 Since almost one month Delhi has ...  \n",
       "4  RT a COVID19 Since almost one month Delhi has ...  "
      ]
     },
     "execution_count": 17,
     "metadata": {},
     "output_type": "execute_result"
    }
   ],
   "source": [
    "df.head()"
   ]
  },
  {
   "cell_type": "code",
   "execution_count": 18,
   "metadata": {},
   "outputs": [
    {
     "data": {
      "text/html": [
       "<div>\n",
       "<style scoped>\n",
       "    .dataframe tbody tr th:only-of-type {\n",
       "        vertical-align: middle;\n",
       "    }\n",
       "\n",
       "    .dataframe tbody tr th {\n",
       "        vertical-align: top;\n",
       "    }\n",
       "\n",
       "    .dataframe thead th {\n",
       "        text-align: right;\n",
       "    }\n",
       "</style>\n",
       "<table border=\"1\" class=\"dataframe\">\n",
       "  <thead>\n",
       "    <tr style=\"text-align: right;\">\n",
       "      <th></th>\n",
       "      <th>Tweets</th>\n",
       "      <th>User</th>\n",
       "      <th>User_statuses_count</th>\n",
       "      <th>User_followers</th>\n",
       "      <th>User_location</th>\n",
       "      <th>User_verified</th>\n",
       "      <th>fav_count</th>\n",
       "      <th>rt_count</th>\n",
       "      <th>tweet_date</th>\n",
       "      <th>clean_tweet</th>\n",
       "      <th>Sentiment</th>\n",
       "    </tr>\n",
       "  </thead>\n",
       "  <tbody>\n",
       "    <tr>\n",
       "      <th>0</th>\n",
       "      <td>RT @Sagarja79036511: We know that there are a ...</td>\n",
       "      <td>sonu nabha</td>\n",
       "      <td>4398</td>\n",
       "      <td>9</td>\n",
       "      <td></td>\n",
       "      <td>False</td>\n",
       "      <td>0</td>\n",
       "      <td>22</td>\n",
       "      <td>2020-11-24 10:39:28</td>\n",
       "      <td>RT We know that there are a lot of cases in In...</td>\n",
       "      <td>Positive</td>\n",
       "    </tr>\n",
       "    <tr>\n",
       "      <th>1</th>\n",
       "      <td>RT @jamilhussan_a: #COVID19 – Since almost one...</td>\n",
       "      <td>شهيد الشيخ</td>\n",
       "      <td>3723</td>\n",
       "      <td>2063</td>\n",
       "      <td></td>\n",
       "      <td>False</td>\n",
       "      <td>0</td>\n",
       "      <td>47</td>\n",
       "      <td>2020-11-24 10:39:11</td>\n",
       "      <td>RT a COVID19 Since almost one month Delhi has ...</td>\n",
       "      <td>Neutral</td>\n",
       "    </tr>\n",
       "    <tr>\n",
       "      <th>2</th>\n",
       "      <td>In India \"Low footfall in theatres has meant n...</td>\n",
       "      <td>Cinema-will-be-back Guru</td>\n",
       "      <td>14811</td>\n",
       "      <td>2772</td>\n",
       "      <td>London, England</td>\n",
       "      <td>False</td>\n",
       "      <td>1</td>\n",
       "      <td>0</td>\n",
       "      <td>2020-11-24 10:35:21</td>\n",
       "      <td>In India Low footfall in theatres has meant no...</td>\n",
       "      <td>Neutral</td>\n",
       "    </tr>\n",
       "    <tr>\n",
       "      <th>3</th>\n",
       "      <td>RT @jamilhussan_a: #COVID19 – Since almost one...</td>\n",
       "      <td>Mohammad Azam/محمد اعظم/मोहम्मद आज़म 🇮🇳</td>\n",
       "      <td>47222</td>\n",
       "      <td>3676</td>\n",
       "      <td>Shaheen Bagh</td>\n",
       "      <td>False</td>\n",
       "      <td>0</td>\n",
       "      <td>47</td>\n",
       "      <td>2020-11-24 10:32:50</td>\n",
       "      <td>RT a COVID19 Since almost one month Delhi has ...</td>\n",
       "      <td>Neutral</td>\n",
       "    </tr>\n",
       "    <tr>\n",
       "      <th>4</th>\n",
       "      <td>RT @jamilhussan_a: #COVID19 – Since almost one...</td>\n",
       "      <td>ARFAT✋🏻INC 🙏🏻</td>\n",
       "      <td>109941</td>\n",
       "      <td>8683</td>\n",
       "      <td>𝐎𝐝𝐢𝐬𝐬𝐚,𝐈𝐧𝐝𝐢𝐚</td>\n",
       "      <td>False</td>\n",
       "      <td>0</td>\n",
       "      <td>47</td>\n",
       "      <td>2020-11-24 10:26:02</td>\n",
       "      <td>RT a COVID19 Since almost one month Delhi has ...</td>\n",
       "      <td>Neutral</td>\n",
       "    </tr>\n",
       "  </tbody>\n",
       "</table>\n",
       "</div>"
      ],
      "text/plain": [
       "                                              Tweets  \\\n",
       "0  RT @Sagarja79036511: We know that there are a ...   \n",
       "1  RT @jamilhussan_a: #COVID19 – Since almost one...   \n",
       "2  In India \"Low footfall in theatres has meant n...   \n",
       "3  RT @jamilhussan_a: #COVID19 – Since almost one...   \n",
       "4  RT @jamilhussan_a: #COVID19 – Since almost one...   \n",
       "\n",
       "                                      User User_statuses_count User_followers  \\\n",
       "0                               sonu nabha                4398              9   \n",
       "1                               شهيد الشيخ                3723           2063   \n",
       "2                 Cinema-will-be-back Guru               14811           2772   \n",
       "3  Mohammad Azam/محمد اعظم/मोहम्मद आज़म 🇮🇳               47222           3676   \n",
       "4                            ARFAT✋🏻INC 🙏🏻              109941           8683   \n",
       "\n",
       "     User_location User_verified fav_count rt_count           tweet_date  \\\n",
       "0                          False         0       22  2020-11-24 10:39:28   \n",
       "1                          False         0       47  2020-11-24 10:39:11   \n",
       "2  London, England         False         1        0  2020-11-24 10:35:21   \n",
       "3    Shaheen Bagh          False         0       47  2020-11-24 10:32:50   \n",
       "4    𝐎𝐝𝐢𝐬𝐬𝐚,𝐈𝐧𝐝𝐢𝐚          False         0       47  2020-11-24 10:26:02   \n",
       "\n",
       "                                         clean_tweet Sentiment  \n",
       "0  RT We know that there are a lot of cases in In...  Positive  \n",
       "1  RT a COVID19 Since almost one month Delhi has ...   Neutral  \n",
       "2  In India Low footfall in theatres has meant no...   Neutral  \n",
       "3  RT a COVID19 Since almost one month Delhi has ...   Neutral  \n",
       "4  RT a COVID19 Since almost one month Delhi has ...   Neutral  "
      ]
     },
     "execution_count": 18,
     "metadata": {},
     "output_type": "execute_result"
    }
   ],
   "source": [
    "df['Sentiment'] = df['clean_tweet'].apply(lambda x : analyze_sentiment(x) )\n",
    "df.head()"
   ]
  },
  {
   "cell_type": "code",
   "execution_count": 19,
   "metadata": {},
   "outputs": [
    {
     "name": "stdout",
     "output_type": "stream",
     "text": [
      "Original tweet:\n",
      " RT @jamilhussan_a: #COVID19 – Since almost one month, Delhi has now been reporting max Covid cases &amp; Covid deaths in India. Delhi accounts…\n",
      "\n",
      "Clean tweet:\n",
      " RT a COVID19 Since almost one month Delhi has now been reporting max Covid cases amp Covid deaths in India Delhi accounts\n",
      "\n",
      "Sentiment of the tweet:\n",
      " Neutral\n"
     ]
    }
   ],
   "source": [
    "n = 1\n",
    "print(\"Original tweet:\\n\",df['Tweets'][n])\n",
    "print()\n",
    "print(\"Clean tweet:\\n\",df['clean_tweet'][n])\n",
    "print()\n",
    "print(\"Sentiment of the tweet:\\n\",df['Sentiment'][n])"
   ]
  },
  {
   "cell_type": "code",
   "execution_count": 20,
   "metadata": {},
   "outputs": [
    {
     "name": "stdout",
     "output_type": "stream",
     "text": [
      "Original tweet:\n",
      " RT @jamilhussan_a: #COVID19 – Since almost one month, Delhi has now been reporting max Covid cases &amp; Covid deaths in India. Delhi accounts…\n",
      "\n",
      "Clean tweet:\n",
      " RT a COVID19 Since almost one month Delhi has now been reporting max Covid cases amp Covid deaths in India Delhi accounts\n",
      "\n",
      "Sentiment of the tweet:\n",
      " Neutral\n"
     ]
    }
   ],
   "source": [
    "n = 20\n",
    "print(\"Original tweet:\\n\",df['Tweets'][n])\n",
    "print()\n",
    "print(\"Clean tweet:\\n\",df['clean_tweet'][n])\n",
    "print()\n",
    "print(\"Sentiment of the tweet:\\n\",df['Sentiment'][n])"
   ]
  },
  {
   "cell_type": "code",
   "execution_count": 21,
   "metadata": {},
   "outputs": [
    {
     "name": "stdout",
     "output_type": "stream",
     "text": [
      "Original tweet:\n",
      " RT @PIBBhubaneswar: #CoronaVirusUpdates: \n",
      "\n",
      "📍Total #COVID19 Cases in India (as on November 24, 2020)\n",
      "\n",
      "▶️93.76% Cured/Discharged/Migrated (86…\n",
      "\n",
      "Clean tweet:\n",
      " RT CoronaVirusUpdates Total COVID19 Cases in India as on November 24 2020 93 76 Cured Discharged Migrated 86\n",
      "\n",
      "Sentiment of the tweet:\n",
      " Neutral\n"
     ]
    }
   ],
   "source": [
    "n = 203\n",
    "print(\"Original tweet:\\n\",df['Tweets'][n])\n",
    "print()\n",
    "print(\"Clean tweet:\\n\",df['clean_tweet'][n])\n",
    "print()\n",
    "print(\"Sentiment of the tweet:\\n\",df['Sentiment'][n])"
   ]
  },
  {
   "cell_type": "code",
   "execution_count": 22,
   "metadata": {},
   "outputs": [
    {
     "data": {
      "text/plain": [
       "501"
      ]
     },
     "execution_count": 22,
     "metadata": {},
     "output_type": "execute_result"
    }
   ],
   "source": [
    "df[df.Sentiment == 'Positive'].shape[0]"
   ]
  },
  {
   "cell_type": "code",
   "execution_count": 23,
   "metadata": {},
   "outputs": [
    {
     "data": {
      "text/plain": [
       "309"
      ]
     },
     "execution_count": 23,
     "metadata": {},
     "output_type": "execute_result"
    }
   ],
   "source": [
    "df[df.Sentiment == 'Neutral'].shape[0]"
   ]
  },
  {
   "cell_type": "code",
   "execution_count": 24,
   "metadata": {},
   "outputs": [
    {
     "data": {
      "text/plain": [
       "190"
      ]
     },
     "execution_count": 24,
     "metadata": {},
     "output_type": "execute_result"
    }
   ],
   "source": [
    "df[df.Sentiment == 'Negative'].shape[0]"
   ]
  },
  {
   "cell_type": "code",
   "execution_count": null,
   "metadata": {},
   "outputs": [],
   "source": []
  }
 ],
 "metadata": {
  "kernelspec": {
   "display_name": "Python 3",
   "language": "python",
   "name": "python3"
  },
  "language_info": {
   "codemirror_mode": {
    "name": "ipython",
    "version": 3
   },
   "file_extension": ".py",
   "mimetype": "text/x-python",
   "name": "python",
   "nbconvert_exporter": "python",
   "pygments_lexer": "ipython3",
   "version": "3.7.6"
  },
  "toc": {
   "base_numbering": 1,
   "nav_menu": {},
   "number_sections": true,
   "sideBar": true,
   "skip_h1_title": false,
   "title_cell": "Table of Contents",
   "title_sidebar": "Contents",
   "toc_cell": false,
   "toc_position": {
    "height": "calc(100% - 180px)",
    "left": "10px",
    "top": "150px",
    "width": "187.2px"
   },
   "toc_section_display": true,
   "toc_window_display": true
  }
 },
 "nbformat": 4,
 "nbformat_minor": 4
}
